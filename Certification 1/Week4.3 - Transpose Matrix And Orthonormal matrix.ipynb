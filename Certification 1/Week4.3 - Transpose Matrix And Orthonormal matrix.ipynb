{
 "cells": [
  {
   "cell_type": "code",
   "execution_count": 1,
   "metadata": {},
   "outputs": [],
   "source": [
    "import numpy as np\n",
    "import numpy.linalg as nl"
   ]
  },
  {
   "cell_type": "code",
   "execution_count": 2,
   "metadata": {},
   "outputs": [
    {
     "data": {
      "text/plain": [
       "array([[1, 2, 5],\n",
       "       [3, 4, 6],\n",
       "       [7, 8, 9]])"
      ]
     },
     "execution_count": 2,
     "metadata": {},
     "output_type": "execute_result"
    }
   ],
   "source": [
    "A = np.array([[1,2,5], [3,4,6],[7,8,9]])\n",
    "A"
   ]
  },
  {
   "cell_type": "code",
   "execution_count": 3,
   "metadata": {},
   "outputs": [
    {
     "data": {
      "text/plain": [
       "array([[1, 3, 7],\n",
       "       [2, 4, 8],\n",
       "       [5, 6, 9]])"
      ]
     },
     "execution_count": 3,
     "metadata": {},
     "output_type": "execute_result"
    }
   ],
   "source": [
    "A.T"
   ]
  },
  {
   "cell_type": "code",
   "execution_count": 4,
   "metadata": {},
   "outputs": [
    {
     "data": {
      "text/plain": [
       "array([[  6. , -11. ,   4. ],\n",
       "       [ -7.5,  13. ,  -4.5],\n",
       "       [  2. ,  -3. ,   1. ]])"
      ]
     },
     "execution_count": 4,
     "metadata": {},
     "output_type": "execute_result"
    }
   ],
   "source": [
    "nl.inv(A)"
   ]
  },
  {
   "cell_type": "code",
   "execution_count": 5,
   "metadata": {},
   "outputs": [
    {
     "data": {
      "text/plain": [
       "array([[ 1.00000000e+00,  3.55271368e-15,  0.00000000e+00],\n",
       "       [-4.44089210e-15,  1.00000000e+00, -6.21724894e-15],\n",
       "       [ 0.00000000e+00,  8.88178420e-16,  1.00000000e+00]])"
      ]
     },
     "execution_count": 5,
     "metadata": {},
     "output_type": "execute_result"
    }
   ],
   "source": [
    "np.dot(nl.inv(A), A)"
   ]
  },
  {
   "cell_type": "markdown",
   "metadata": {},
   "source": [
    "# Note"
   ]
  },
  {
   "cell_type": "markdown",
   "metadata": {},
   "source": [
    "othronormal if A.T == inv(A)"
   ]
  },
  {
   "cell_type": "markdown",
   "metadata": {},
   "source": [
    "if orthonormal, np.dot(A.T, A) == np.dot(A, A.T)"
   ]
  },
  {
   "cell_type": "markdown",
   "metadata": {},
   "source": [
    "# Build Orthonormal matrix"
   ]
  },
  {
   "cell_type": "markdown",
   "metadata": {},
   "source": [
    "## Gram-Schmidt process"
   ]
  },
  {
   "cell_type": "code",
   "execution_count": 6,
   "metadata": {},
   "outputs": [],
   "source": [
    "vectors = np.array([[2,4,6], [5,8,3], [8,3,2]])"
   ]
  },
  {
   "cell_type": "code",
   "execution_count": 7,
   "metadata": {},
   "outputs": [],
   "source": [
    "def buildOrthonormalMatrixBasedOn(*vectors):\n",
    "    vectors = np.array(vectors[0])\n",
    "    print(\"Shape \", vectors.shape)\n",
    "    numberOfVector, targetDimension = vectors.shape\n",
    "    assert numberOfVector >= targetDimension, \"You need more vectors\"\n",
    "    \n",
    "    baseVectors = []\n",
    "    \n",
    "    for vectorIndex in range(targetDimension):\n",
    "        currentVector = vectors[vectorIndex]\n",
    "        delta = np.zeros((targetDimension))\n",
    "        for v in range(0, vectorIndex):\n",
    "            baseVector = baseVectors[v]\n",
    "            delta = delta - (np.dot(currentVector, baseVector) * baseVector)\n",
    "        \n",
    "        tempVector = currentVector + delta\n",
    "        baseVectors.append(tempVector / nl.norm(tempVector))\n",
    "\n",
    "    # Check if all vectors are orthogonal\n",
    "    EPSILON = np.power(10.0, -15)\n",
    "    for indexBaseV in range(len(baseVectors)):\n",
    "        for nextBaseV in range(indexBaseV + 1, len(baseVectors)):\n",
    "            dot =  np.dot(baseVectors[indexBaseV], baseVectors[nextBaseV])\n",
    "            assert abs(dot) <= EPSILON, \"Vectors are not othogonal but %s instead\" % dot\n",
    "            \n",
    "    baseVectors = np.array(baseVectors)\n",
    "    \n",
    "    assert np.allclose(baseVectors.T, nl.inv(baseVectors), atol=EPSILON), \"The matrix produce is not orthonormal!\"\n",
    "    return baseVectors"
   ]
  },
  {
   "cell_type": "code",
   "execution_count": 8,
   "metadata": {},
   "outputs": [
    {
     "name": "stdout",
     "output_type": "stream",
     "text": [
      "Shape  (3, 3)\n"
     ]
    },
    {
     "data": {
      "text/plain": [
       "array([[ 0.26726124,  0.53452248,  0.80178373],\n",
       "       [ 0.49206783,  0.63968818, -0.5904814 ],\n",
       "       [ 0.82851716, -0.55234477,  0.09205746]])"
      ]
     },
     "execution_count": 8,
     "metadata": {},
     "output_type": "execute_result"
    }
   ],
   "source": [
    "baseV = buildOrthonormalMatrixBasedOn(vectors)\n",
    "baseV"
   ]
  },
  {
   "cell_type": "markdown",
   "metadata": {},
   "source": [
    "Projection of vector to normalized vector is np.dot(V, e)"
   ]
  },
  {
   "cell_type": "code",
   "execution_count": 9,
   "metadata": {},
   "outputs": [
    {
     "data": {
      "text/plain": [
       "0.0"
      ]
     },
     "execution_count": 9,
     "metadata": {},
     "output_type": "execute_result"
    }
   ],
   "source": [
    "np.dot(baseV[0], baseV[1]) # The two base are orthogonal !"
   ]
  },
  {
   "cell_type": "code",
   "execution_count": 10,
   "metadata": {},
   "outputs": [
    {
     "name": "stdout",
     "output_type": "stream",
     "text": [
      "Shape  (3, 3)\n"
     ]
    },
    {
     "data": {
      "text/plain": [
       "array([[ 0.26726124,  0.53452248,  0.80178373],\n",
       "       [ 0.49206783,  0.63968818, -0.5904814 ],\n",
       "       [ 0.82851716, -0.55234477,  0.09205746]])"
      ]
     },
     "execution_count": 10,
     "metadata": {},
     "output_type": "execute_result"
    }
   ],
   "source": [
    "buildOrthonormalMatrixBasedOn(baseV)"
   ]
  }
 ],
 "metadata": {
  "kernelspec": {
   "display_name": "Python 3",
   "language": "python",
   "name": "python3"
  },
  "language_info": {
   "codemirror_mode": {
    "name": "ipython",
    "version": 3
   },
   "file_extension": ".py",
   "mimetype": "text/x-python",
   "name": "python",
   "nbconvert_exporter": "python",
   "pygments_lexer": "ipython3",
   "version": "3.5.4"
  }
 },
 "nbformat": 4,
 "nbformat_minor": 2
}
