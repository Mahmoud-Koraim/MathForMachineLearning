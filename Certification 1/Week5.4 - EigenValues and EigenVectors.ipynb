{
 "cells": [
  {
   "cell_type": "code",
   "execution_count": 42,
   "metadata": {},
   "outputs": [],
   "source": [
    "from math import sqrt\n",
    "import numpy as np\n",
    "import numpy.linalg as nl\n",
    "import fractions\n",
    "np.set_printoptions(formatter={'all':lambda x: str(fractions.Fraction(x).limit_denominator(100))})"
   ]
  },
  {
   "cell_type": "code",
   "execution_count": 43,
   "metadata": {},
   "outputs": [],
   "source": [
    "def pageRank(linkMatrix, d=0.5):\n",
    "    linkMatrix = np.array(linkMatrix)\n",
    "    n = linkMatrix.shape[0]\n",
    "    M = d * linkMatrix + (1-d)/n * np.ones([n, n])\n",
    "    r = 100 * np.ones(n) / n\n",
    "    lastR = r\n",
    "    r = M @ r\n",
    "    i = 0\n",
    "    while nl.norm(lastR - r) > 0.01 :\n",
    "        lastR = r\n",
    "        r = M @ r\n",
    "        i += 1  \n",
    "    return r"
   ]
  },
  {
   "cell_type": "code",
   "execution_count": 44,
   "metadata": {},
   "outputs": [],
   "source": [
    "def getAll(matrix):\n",
    "    matrix = np.array(matrix)\n",
    "    vals, vecs = nl.eig(matrix)\n",
    "    try:\n",
    "        print (\"Values: \")\n",
    "        print (vals)\n",
    "    except:\n",
    "        pass\n",
    "    try:\n",
    "        print (\"Vectors: \")\n",
    "        print (vecs)\n",
    "    except:\n",
    "        pass"
   ]
  },
  {
   "cell_type": "code",
   "execution_count": 45,
   "metadata": {
    "scrolled": true
   },
   "outputs": [
    {
     "name": "stdout",
     "output_type": "stream",
     "text": [
      "Values: \n",
      "[1 -4 -3]\n",
      "Vectors: \n",
      "[[-53/77 -2/3 20/49]\n",
      " [-53/77 -2/3 -20/49]\n",
      " [-14/61 1/3 -40/49]]\n"
     ]
    }
   ],
   "source": [
    "getAll([[4,-5,6], [7,-8,6], [3/2, -1/2, -2]])"
   ]
  },
  {
   "cell_type": "code",
   "execution_count": 46,
   "metadata": {
    "scrolled": true
   },
   "outputs": [
    {
     "name": "stdout",
     "output_type": "stream",
     "text": [
      "Values: \n",
      "Vectors: \n"
     ]
    }
   ],
   "source": [
    "getAll([[0,0,0,1], [1,0,0,0], [0,1,0,0], [0,0,1,0]])"
   ]
  },
  {
   "cell_type": "code",
   "execution_count": 49,
   "metadata": {},
   "outputs": [
    {
     "data": {
      "text/plain": [
       "array([25, 25, 25, 25])"
      ]
     },
     "execution_count": 49,
     "metadata": {},
     "output_type": "execute_result"
    }
   ],
   "source": [
    "pageRank([[0,0,0,1], [1,0,0,0], [0,1,0,0], [0,0,1,0]])"
   ]
  },
  {
   "cell_type": "code",
   "execution_count": 47,
   "metadata": {},
   "outputs": [
    {
     "name": "stdout",
     "output_type": "stream",
     "text": [
      "Values: \n",
      "Vectors: \n"
     ]
    }
   ],
   "source": [
    "getAll([\n",
    "    [0.1,0.1,0.1,0.7], \n",
    "    [0.7,0.1,0.1,0.1], \n",
    "    [0.1,0.7,0.1,0.1], \n",
    "    [0.1,0.1,0.7,0.1]\n",
    "])"
   ]
  },
  {
   "cell_type": "code",
   "execution_count": 48,
   "metadata": {},
   "outputs": [
    {
     "data": {
      "text/plain": [
       "array([25, 25, 25, 25])"
      ]
     },
     "execution_count": 48,
     "metadata": {},
     "output_type": "execute_result"
    }
   ],
   "source": [
    "pageRank([\n",
    "    [0.1,0.1,0.1,0.7], \n",
    "    [0.7,0.1,0.1,0.1], \n",
    "    [0.1,0.7,0.1,0.1], \n",
    "    [0.1,0.1,0.7,0.1]\n",
    "])"
   ]
  },
  {
   "cell_type": "code",
   "execution_count": 50,
   "metadata": {},
   "outputs": [
    {
     "data": {
      "text/plain": [
       "1.0"
      ]
     },
     "execution_count": 50,
     "metadata": {},
     "output_type": "execute_result"
    }
   ],
   "source": [
    "nl.det([[0,1,0,0],\n",
    "       [1,0,0,0],\n",
    "       [0,0,0,1],\n",
    "       [0,0,1,0]\n",
    "       ])"
   ]
  },
  {
   "cell_type": "code",
   "execution_count": 51,
   "metadata": {},
   "outputs": [
    {
     "data": {
      "text/plain": [
       "array([25, 25, 25, 25])"
      ]
     },
     "execution_count": 51,
     "metadata": {},
     "output_type": "execute_result"
    }
   ],
   "source": [
    "pageRank([[0,1,0,0],\n",
    "       [1,0,0,0],\n",
    "       [0,0,0,1],\n",
    "       [0,0,1,0]\n",
    "       ])"
   ]
  },
  {
   "cell_type": "code",
   "execution_count": 52,
   "metadata": {},
   "outputs": [
    {
     "name": "stdout",
     "output_type": "stream",
     "text": [
      "Values: \n",
      "[181/97 13/97]\n",
      "Vectors: \n",
      "[[77/82 13/22]\n",
      " [-11/32 71/88]]\n"
     ]
    }
   ],
   "source": [
    "getAll([\n",
    "   [3/2, -1],\n",
    "    [-1/2, 1/2]\n",
    "])"
   ]
  },
  {
   "cell_type": "code",
   "execution_count": null,
   "metadata": {},
   "outputs": [],
   "source": []
  }
 ],
 "metadata": {
  "kernelspec": {
   "display_name": "Python 3",
   "language": "python",
   "name": "python3"
  },
  "language_info": {
   "codemirror_mode": {
    "name": "ipython",
    "version": 3
   },
   "file_extension": ".py",
   "mimetype": "text/x-python",
   "name": "python",
   "nbconvert_exporter": "python",
   "pygments_lexer": "ipython3",
   "version": "3.5.4"
  }
 },
 "nbformat": 4,
 "nbformat_minor": 2
}
