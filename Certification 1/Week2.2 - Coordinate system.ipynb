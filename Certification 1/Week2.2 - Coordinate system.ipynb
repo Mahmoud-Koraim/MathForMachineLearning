{
 "cells": [
  {
   "cell_type": "code",
   "execution_count": 1,
   "metadata": {},
   "outputs": [],
   "source": [
    "import numpy as np\n",
    "import numpy.linalg as nl\n",
    "import fractions\n",
    "np.set_printoptions(formatter={'all':lambda x: str(fractions.Fraction(x).limit_denominator())})"
   ]
  },
  {
   "cell_type": "markdown",
   "metadata": {},
   "source": [
    "### Angle between two vectors\n",
    "cos(teta) = np.dot(a, b) / (nl.norm(a) * nl.norm(b))"
   ]
  },
  {
   "cell_type": "markdown",
   "metadata": {},
   "source": [
    "### Scala projection"
   ]
  },
  {
   "cell_type": "code",
   "execution_count": 2,
   "metadata": {},
   "outputs": [
    {
     "data": {
      "text/plain": [
       "0.5"
      ]
     },
     "execution_count": 2,
     "metadata": {},
     "output_type": "execute_result"
    }
   ],
   "source": [
    "# project re onto b2\n",
    "re = [3,4]\n",
    "b2 = [-2, 4]\n",
    "np.dot(re, b2) / np.dot(b2,b2)"
   ]
  },
  {
   "cell_type": "code",
   "execution_count": 3,
   "metadata": {},
   "outputs": [],
   "source": [
    "def cosVector(a,b):\n",
    "    return np.dot(a,b) / (nl.norm(a) * nl.norm(b))"
   ]
  },
  {
   "cell_type": "code",
   "execution_count": 4,
   "metadata": {},
   "outputs": [],
   "source": [
    "def scalarProjection(a,b):\n",
    "    return np.dot(a,b) / np.dot(b,b)"
   ]
  },
  {
   "cell_type": "code",
   "execution_count": 49,
   "metadata": {},
   "outputs": [],
   "source": [
    "def newCoordinate(a, i, j, k=None, l=None):\n",
    "    assert cosVector(i,j) == 0, \"i and j vector are not othogonal\"\n",
    "    if k is not None:\n",
    "        assert cosVector(k,j) == 0, \"k and j vector are not othogonal\"\n",
    "        assert cosVector(i,k) == 0, \"i and k vector are not othogonal\"\n",
    "        if l is not None:\n",
    "            assert cosVector(l,j) == 0, \"l and j vector are not othogonal\"\n",
    "            assert cosVector(i,l) == 0, \"i and l vector are not othogonal\"\n",
    "            assert cosVector(l,k) == 0, \"l and k vector are not othogonal\"\n",
    "            return [\n",
    "                scalarProjection(a,i), \n",
    "                scalarProjection(a,j), \n",
    "                scalarProjection(a,k),\n",
    "                scalarProjection(a,l)\n",
    "            ]\n",
    "        else:\n",
    "            return [\n",
    "                scalarProjection(a,i), \n",
    "                scalarProjection(a,j), \n",
    "                scalarProjection(a,k)\n",
    "            ]\n",
    "    else:\n",
    "        return [scalarProjection(a,i), scalarProjection(a,j)]\n"
   ]
  },
  {
   "cell_type": "code",
   "execution_count": 50,
   "metadata": {},
   "outputs": [],
   "source": [
    "v = [5, -1]\n",
    "b1 = [1,1]\n",
    "b2 = [1, -1]"
   ]
  },
  {
   "cell_type": "code",
   "execution_count": 51,
   "metadata": {},
   "outputs": [
    {
     "data": {
      "text/plain": [
       "0.0"
      ]
     },
     "execution_count": 51,
     "metadata": {},
     "output_type": "execute_result"
    }
   ],
   "source": [
    "cosVector(b1,b2)"
   ]
  },
  {
   "cell_type": "code",
   "execution_count": 52,
   "metadata": {},
   "outputs": [
    {
     "data": {
      "text/plain": [
       "2.0"
      ]
     },
     "execution_count": 52,
     "metadata": {},
     "output_type": "execute_result"
    }
   ],
   "source": [
    "scalarProjection(v, b1)"
   ]
  },
  {
   "cell_type": "code",
   "execution_count": 53,
   "metadata": {},
   "outputs": [
    {
     "data": {
      "text/plain": [
       "3.0"
      ]
     },
     "execution_count": 53,
     "metadata": {},
     "output_type": "execute_result"
    }
   ],
   "source": [
    "scalarProjection(v,b2)"
   ]
  },
  {
   "cell_type": "code",
   "execution_count": 54,
   "metadata": {},
   "outputs": [
    {
     "data": {
      "text/plain": [
       "[2.0, 3.0]"
      ]
     },
     "execution_count": 54,
     "metadata": {},
     "output_type": "execute_result"
    }
   ],
   "source": [
    "newCoordinate(v, b1, b2)"
   ]
  },
  {
   "cell_type": "code",
   "execution_count": 55,
   "metadata": {},
   "outputs": [
    {
     "data": {
      "text/plain": [
       "[0.4, 2.2]"
      ]
     },
     "execution_count": 55,
     "metadata": {},
     "output_type": "execute_result"
    }
   ],
   "source": [
    "newCoordinate([10, -5], [3,4], [4,-3])"
   ]
  },
  {
   "cell_type": "code",
   "execution_count": 56,
   "metadata": {},
   "outputs": [
    {
     "data": {
      "text/plain": [
       "[-0.4, 0.8]"
      ]
     },
     "execution_count": 56,
     "metadata": {},
     "output_type": "execute_result"
    }
   ],
   "source": [
    "newCoordinate([2,2], [-3,1], [1, 3])"
   ]
  },
  {
   "cell_type": "code",
   "execution_count": 57,
   "metadata": {},
   "outputs": [
    {
     "data": {
      "text/plain": [
       "[0.6, -0.3333333333333333, -0.13333333333333333]"
      ]
     },
     "execution_count": 57,
     "metadata": {},
     "output_type": "execute_result"
    }
   ],
   "source": [
    "newCoordinate([1,1,1], [2,1,0], [1,-2,-1], [-1,2,-5])"
   ]
  },
  {
   "cell_type": "code",
   "execution_count": 58,
   "metadata": {},
   "outputs": [
    {
     "data": {
      "text/plain": [
       "[1.0, 0.0, 1.0, 1.0]"
      ]
     },
     "execution_count": 58,
     "metadata": {},
     "output_type": "execute_result"
    }
   ],
   "source": [
    "newCoordinate([1,1,2,3], [1,0,0,0], [0,2,-1,0], [0,1,2,0], [0,0,0,3])"
   ]
  },
  {
   "cell_type": "code",
   "execution_count": null,
   "metadata": {},
   "outputs": [],
   "source": []
  }
 ],
 "metadata": {
  "kernelspec": {
   "display_name": "Python 3",
   "language": "python",
   "name": "python3"
  },
  "language_info": {
   "codemirror_mode": {
    "name": "ipython",
    "version": 3
   },
   "file_extension": ".py",
   "mimetype": "text/x-python",
   "name": "python",
   "nbconvert_exporter": "python",
   "pygments_lexer": "ipython3",
   "version": "3.5.4"
  }
 },
 "nbformat": 4,
 "nbformat_minor": 2
}
