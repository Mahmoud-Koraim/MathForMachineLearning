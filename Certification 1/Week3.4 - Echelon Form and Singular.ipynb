{
 "cells": [
  {
   "cell_type": "code",
   "execution_count": 1,
   "metadata": {},
   "outputs": [],
   "source": [
    "import numpy as np"
   ]
  },
  {
   "cell_type": "code",
   "execution_count": 2,
   "metadata": {},
   "outputs": [],
   "source": [
    "def echelon(matrix):\n",
    "    def zeroCell(matrix, rowIndex):\n",
    "        for col in range(0, rowIndex):\n",
    "            matrix[rowIndex] = matrix[rowIndex] - matrix[rowIndex, col] * matrix[col]\n",
    "        return matrix\n",
    "\n",
    "    matrix = np.array(matrix)\n",
    "    shape = matrix.shape\n",
    "    rows = shape[0]\n",
    "    columns = shape[1]\n",
    "    assert columns == rows, \"Matrix is not squared\"\n",
    "    for rowIndex in range(rows):\n",
    "        # set the cell before diagonal to 0\n",
    "        matrix = zeroCell(matrix, rowIndex)\n",
    "        \n",
    "        # Set the diagonal to 1\n",
    "        nextRowIndex = rowIndex + 1\n",
    "        while matrix[rowIndex, rowIndex] == 0:\n",
    "            if nextRowIndex >= columns:\n",
    "                raise Exception(\"Matrix is Singular\")\n",
    "            \n",
    "            matrix[rowIndex] = matrix[rowIndex] + matrix[nextRowIndex]\n",
    "            matrix = zeroCell(matrix, rowIndex)\n",
    "            nextRowIndex = nextRowIndex + 1\n",
    "        \n",
    "        matrix[rowIndex] = matrix[rowIndex] / matrix[rowIndex, rowIndex]\n",
    "    \n",
    "    return matrix"
   ]
  },
  {
   "cell_type": "code",
   "execution_count": 3,
   "metadata": {},
   "outputs": [],
   "source": [
    "A = np.array([\n",
    "        [0, 7, -5, 3],\n",
    "        [2, 8, 0, 4],\n",
    "        [3, 12, 0, 5],\n",
    "        [1, 3, 1, 3]\n",
    "    ], dtype=np.float_)"
   ]
  },
  {
   "cell_type": "code",
   "execution_count": 4,
   "metadata": {},
   "outputs": [
    {
     "data": {
      "text/plain": [
       "array([[ 1.        ,  7.5       , -2.5       ,  3.5       ],\n",
       "       [-0.        ,  1.        , -0.71428571,  0.42857143],\n",
       "       [ 0.        ,  0.        ,  1.        ,  1.5       ],\n",
       "       [ 0.        ,  0.        ,  0.        ,  1.        ]])"
      ]
     },
     "execution_count": 4,
     "metadata": {},
     "output_type": "execute_result"
    }
   ],
   "source": [
    "echelon(A)"
   ]
  },
  {
   "cell_type": "code",
   "execution_count": null,
   "metadata": {},
   "outputs": [],
   "source": []
  }
 ],
 "metadata": {
  "kernelspec": {
   "display_name": "Python 3",
   "language": "python",
   "name": "python3"
  },
  "language_info": {
   "codemirror_mode": {
    "name": "ipython",
    "version": 3
   },
   "file_extension": ".py",
   "mimetype": "text/x-python",
   "name": "python",
   "nbconvert_exporter": "python",
   "pygments_lexer": "ipython3",
   "version": "3.5.4"
  }
 },
 "nbformat": 4,
 "nbformat_minor": 2
}
