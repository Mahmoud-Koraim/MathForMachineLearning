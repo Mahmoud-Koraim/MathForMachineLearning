{
 "cells": [
  {
   "cell_type": "code",
   "execution_count": 1,
   "metadata": {},
   "outputs": [],
   "source": [
    "import numpy as np\n",
    "import numpy.linalg as nl\n",
    "import fractions\n",
    "np.set_printoptions(formatter={'all':lambda x: str(fractions.Fraction(x).limit_denominator())})"
   ]
  },
  {
   "cell_type": "code",
   "execution_count": 2,
   "metadata": {},
   "outputs": [],
   "source": [
    "def scalarProjection(a, b, withVector=False):\n",
    "    a = np.array(a)\n",
    "    b = np.array(b)\n",
    "    scalar = np.dot(a,b) / np.dot(b,b)\n",
    "    if withVector:\n",
    "        return np.array(b) * scalar\n",
    "    else:\n",
    "        return scalar"
   ]
  },
  {
   "cell_type": "code",
   "execution_count": 3,
   "metadata": {},
   "outputs": [
    {
     "data": {
      "text/plain": [
       "array([3/2, 3/2])"
      ]
     },
     "execution_count": 3,
     "metadata": {},
     "output_type": "execute_result"
    }
   ],
   "source": [
    "ship = [1,2]\n",
    "current = [1,1]\n",
    "scalarProjection(ship, current, True)"
   ]
  },
  {
   "cell_type": "code",
   "execution_count": 4,
   "metadata": {},
   "outputs": [
    {
     "data": {
      "text/plain": [
       "0.4"
      ]
     },
     "execution_count": 4,
     "metadata": {},
     "output_type": "execute_result"
    }
   ],
   "source": [
    "ball = np.array([2, 1])\n",
    "wind = np.array([3, -4])\n",
    "nl.norm(scalarProjection(ball, wind, True))"
   ]
  },
  {
   "cell_type": "code",
   "execution_count": 5,
   "metadata": {},
   "outputs": [],
   "source": [
    "def cosVector(a,b):\n",
    "    return np.dot(a,b) / (nl.norm(a) * nl.norm(b))"
   ]
  },
  {
   "cell_type": "code",
   "execution_count": 6,
   "metadata": {},
   "outputs": [],
   "source": [
    "def newCoordinate(a, *newVectors):\n",
    "    assert len(a) == len(newVectors), \"Shape and vectors not matching\"\n",
    "    results = []\n",
    "    for index, dimension in enumerate(newVectors):\n",
    "        for otherIndex in range(index + 1, len(newVectors)):\n",
    "            assert cosVector(dimension, newVectors[otherIndex]) == 0, \"Vector %d and %d not aligned\" % (index, otherIndex)\n",
    "        \n",
    "        results.append(scalarProjection(a, dimension))\n",
    "    return np.array(results)"
   ]
  },
  {
   "cell_type": "code",
   "execution_count": 7,
   "metadata": {},
   "outputs": [
    {
     "data": {
      "text/plain": [
       "array([1, 1, 1])"
      ]
     },
     "execution_count": 7,
     "metadata": {},
     "output_type": "execute_result"
    }
   ],
   "source": [
    "newCoordinate([-4,-3,8], [1,2,3], [-2,1,0], [-3,-6,5])"
   ]
  },
  {
   "cell_type": "code",
   "execution_count": 8,
   "metadata": {},
   "outputs": [],
   "source": [
    "def isLinearIndependant(*vect):\n",
    "    EPSILON = np.power(10.0, -15)\n",
    "    d = np.row_stack(vect)\n",
    "    \n",
    "    # m < n (the number of vectors is greater than their length): \n",
    "    # they are linearly dependent (always).\n",
    "    if d.shape[0] > d.shape[1]:\n",
    "        return False\n",
    "    \n",
    "    sign, logdet = nl.slogdet(d)\n",
    "    # A set of n vectors of length n is linearly independent \n",
    "    # if the matrix with these vectors as columns has a non-zero determinant. \n",
    "    return abs(np.exp(logdet)) >= EPSILON"
   ]
  },
  {
   "cell_type": "code",
   "execution_count": 9,
   "metadata": {},
   "outputs": [
    {
     "data": {
      "text/plain": [
       "False"
      ]
     },
     "execution_count": 9,
     "metadata": {},
     "output_type": "execute_result"
    }
   ],
   "source": [
    "isLinearIndependant([1,2,-1],[3,-4,5],[1,-8,7])"
   ]
  },
  {
   "cell_type": "code",
   "execution_count": 10,
   "metadata": {},
   "outputs": [
    {
     "data": {
      "text/plain": [
       "array([1, 6, -2])"
      ]
     },
     "execution_count": 10,
     "metadata": {},
     "output_type": "execute_result"
    }
   ],
   "source": [
    "originPosition = np.array([3,2,4])\n",
    "speed = np.array([-1,2,-3])\n",
    "originPosition + 2 * speed"
   ]
  },
  {
   "cell_type": "code",
   "execution_count": null,
   "metadata": {},
   "outputs": [],
   "source": []
  }
 ],
 "metadata": {
  "kernelspec": {
   "display_name": "Python 3",
   "language": "python",
   "name": "python3"
  },
  "language_info": {
   "codemirror_mode": {
    "name": "ipython",
    "version": 3
   },
   "file_extension": ".py",
   "mimetype": "text/x-python",
   "name": "python",
   "nbconvert_exporter": "python",
   "pygments_lexer": "ipython3",
   "version": "3.5.4"
  }
 },
 "nbformat": 4,
 "nbformat_minor": 2
}
