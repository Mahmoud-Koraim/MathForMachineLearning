{
 "cells": [
  {
   "cell_type": "code",
   "execution_count": 1,
   "metadata": {},
   "outputs": [],
   "source": [
    "import numpy as np\n",
    "from sympy import *\n",
    "init_printing(use_latex='mathjax')"
   ]
  },
  {
   "cell_type": "code",
   "execution_count": 2,
   "metadata": {},
   "outputs": [
    {
     "data": {
      "text/latex": [
       "$$f{\\left (h \\right )} + \\left(- h + x\\right) \\left. \\frac{d}{d \\xi_{1}} f{\\left (\\xi_{1} \\right )} \\right|_{\\substack{ \\xi_{1}=h }} + \\frac{1}{2} \\left(- h + x\\right)^{2} \\left. \\frac{d^{2}}{d \\xi_{1}^{2}}  f{\\left (\\xi_{1} \\right )} \\right|_{\\substack{ \\xi_{1}=h }} + \\mathcal{O}\\left(\\left(- h + x\\right)^{3}; x\\rightarrow h\\right)$$"
      ],
      "text/plain": [
       "                                              ⎛  2        ⎞│                  \n",
       "                                            2 ⎜ d         ⎟│                  \n",
       "                                    (-h + x) ⋅⎜────(f(ξ₁))⎟│                  \n",
       "                                              ⎜   2       ⎟│                  \n",
       "                ⎛ d        ⎞│                 ⎝dξ₁        ⎠│ξ₁=h    ⎛        3\n",
       "f(h) + (-h + x)⋅⎜───(f(ξ₁))⎟│     + ──────────────────────────── + O⎝(-h + x) \n",
       "                ⎝dξ₁       ⎠│ξ₁=h                2                            \n",
       "\n",
       "        \n",
       "        \n",
       "        \n",
       "        \n",
       "       ⎞\n",
       "; x → h⎠\n",
       "        "
      ]
     },
     "execution_count": 2,
     "metadata": {},
     "output_type": "execute_result"
    }
   ],
   "source": [
    "x, h = symbols(\"x h\")\n",
    "f = Function(\"f\")\n",
    "f(x).series(x, x0=h, n=3)"
   ]
  },
  {
   "cell_type": "code",
   "execution_count": 3,
   "metadata": {},
   "outputs": [
    {
     "data": {
      "text/latex": [
       "$$1 + x^{2} + \\frac{x^{4}}{2} + \\frac{x^{6}}{6} + \\frac{x^{8}}{24} + \\frac{x^{10}}{120} + \\mathcal{O}\\left(x^{12}\\right)$$"
      ],
      "text/plain": [
       "          4    6    8    10         \n",
       "     2   x    x    x    x      ⎛ 12⎞\n",
       "1 + x  + ── + ── + ── + ─── + O⎝x  ⎠\n",
       "         2    6    24   120         "
      ]
     },
     "execution_count": 3,
     "metadata": {},
     "output_type": "execute_result"
    }
   ],
   "source": [
    "x = symbols('x')\n",
    "f = exp(x ** 2)\n",
    "series(f, x, n = 12)"
   ]
  },
  {
   "cell_type": "code",
   "execution_count": 4,
   "metadata": {},
   "outputs": [
    {
     "data": {
      "text/latex": [
       "$$\\frac{1}{2} + \\frac{1}{64} \\left(x - 4\\right)^{2} - \\frac{1}{256} \\left(x - 4\\right)^{3} + \\frac{1}{1024} \\left(x - 4\\right)^{4} - \\frac{x}{16} + \\mathcal{O}\\left(\\left(x - 4\\right)^{5}; x\\rightarrow 4\\right)$$"
      ],
      "text/plain": [
       "           2          3          4                          \n",
       "1   (x - 4)    (x - 4)    (x - 4)    x     ⎛       5       ⎞\n",
       "─ + ──────── - ──────── + ──────── - ── + O⎝(x - 4) ; x → 4⎠\n",
       "2      64        256        1024     16                     "
      ]
     },
     "execution_count": 4,
     "metadata": {},
     "output_type": "execute_result"
    }
   ],
   "source": [
    "x,p = symbols('x p')\n",
    "f = 1 / x\n",
    "t = series(f, x, x0=p, n = 5)\n",
    "t.subs({p:4})"
   ]
  },
  {
   "cell_type": "code",
   "execution_count": 5,
   "metadata": {},
   "outputs": [
    {
     "data": {
      "text/latex": [
       "$$\\log{\\left (10 \\right )} - 1 + \\frac{x}{10} + \\mathcal{O}\\left(\\left(x - 10\\right)^{2}; x\\rightarrow 10\\right)$$"
      ],
      "text/plain": [
       "              x     ⎛        2        ⎞\n",
       "log(10) - 1 + ── + O⎝(x - 10) ; x → 10⎠\n",
       "              10                       "
      ]
     },
     "execution_count": 5,
     "metadata": {},
     "output_type": "execute_result"
    }
   ],
   "source": [
    "x,p = symbols('x p')\n",
    "f = ln(x)\n",
    "t = series(f, x, x0=p, n = 2)\n",
    "t.subs({p:10})"
   ]
  },
  {
   "cell_type": "code",
   "execution_count": 6,
   "metadata": {},
   "outputs": [
    {
     "data": {
      "text/latex": [
       "$$1 + 2 x + 3 x^{2} + 4 x^{3} + \\mathcal{O}\\left(x^{4}\\right)$$"
      ],
      "text/plain": [
       "             2      3    ⎛ 4⎞\n",
       "1 + 2⋅x + 3⋅x  + 4⋅x  + O⎝x ⎠"
      ]
     },
     "execution_count": 6,
     "metadata": {},
     "output_type": "execute_result"
    }
   ],
   "source": [
    "x,p = symbols('x p')\n",
    "f = 1 / ((1 - x) ** 2 )\n",
    "t = series(f, x, x0=p, n = 4)\n",
    "t.subs({p:0})"
   ]
  },
  {
   "cell_type": "code",
   "execution_count": 13,
   "metadata": {},
   "outputs": [
    {
     "data": {
      "text/latex": [
       "$$- \\frac{x^{3}}{512} - \\frac{x^{2}}{64} - \\frac{x}{4} + 2$$"
      ],
      "text/plain": [
       "    3    2        \n",
       "   x    x    x    \n",
       "- ─── - ── - ─ + 2\n",
       "  512   64   4    "
      ]
     },
     "execution_count": 13,
     "metadata": {},
     "output_type": "execute_result"
    }
   ],
   "source": [
    "x,p = symbols('x p')\n",
    "f = sqrt(4 - x)\n",
    "t = series(f, x, x0=p, n = 4).removeO()\n",
    "t.subs({p:0})"
   ]
  },
  {
   "cell_type": "code",
   "execution_count": 22,
   "metadata": {},
   "outputs": [
    {
     "data": {
      "text/latex": [
       "$$dx^{3} e^{- dx^{4} - \\frac{dx^{2}}{2}}$$"
      ],
      "text/plain": [
       "               2\n",
       "         4   dx \n",
       "     - dx  - ───\n",
       "  3           2 \n",
       "dx ⋅ℯ           "
      ]
     },
     "execution_count": 22,
     "metadata": {},
     "output_type": "execute_result"
    }
   ],
   "source": [
    "x,y, dx, dy = symbols('x y dx dy')\n",
    "f = x * (y ** 2 ) * exp(- (x ** 4 ) - ((y ** 2) / 2))\n",
    "\n",
    "e = f.series(x, x0=dx, n=1).removeO().series(y, x0=dx, n=1).removeO()\n",
    "simplify(e)"
   ]
  },
  {
   "cell_type": "code",
   "execution_count": 24,
   "metadata": {},
   "outputs": [
    {
     "data": {
      "text/latex": [
       "$$\\frac{x^{5}}{60} + \\frac{x^{4}}{24} + \\frac{x^{2}}{2} + 3 x + 1$$"
      ],
      "text/plain": [
       " 5    4    2          \n",
       "x    x    x           \n",
       "── + ── + ── + 3⋅x + 1\n",
       "60   24   2           "
      ]
     },
     "execution_count": 24,
     "metadata": {},
     "output_type": "execute_result"
    }
   ],
   "source": [
    "x = symbols('x')\n",
    "f = exp(x) + x + sin(x)\n",
    "f.series(x, x0=0, n=6).removeO()"
   ]
  },
  {
   "cell_type": "code",
   "execution_count": 25,
   "metadata": {},
   "outputs": [
    {
     "data": {
      "text/latex": [
       "$$- 128.0 \\left(x - 0.5\\right)^{4} - 32.0 \\left(x - 0.5\\right)^{2} - 8.0$$"
      ],
      "text/plain": [
       "                 4                 2      \n",
       "- 128.0⋅(x - 0.5)  - 32.0⋅(x - 0.5)  - 8.0"
      ]
     },
     "execution_count": 25,
     "metadata": {},
     "output_type": "execute_result"
    }
   ],
   "source": [
    "x = symbols('x')\n",
    "f = 2 / (x ** 2 - x)\n",
    "f.series(x, x0=0.5, n=6).removeO()"
   ]
  },
  {
   "cell_type": "code",
   "execution_count": 30,
   "metadata": {},
   "outputs": [
    {
     "data": {
      "text/latex": [
       "$$e^{-4} - \\frac{2}{e^{4}} \\left(x - 2\\right) + \\mathcal{O}\\left(\\left(x - 2\\right)^{2}; x\\rightarrow 2\\right)$$"
      ],
      "text/plain": [
       " -4              -4    ⎛       2       ⎞\n",
       "ℯ   - 2⋅(x - 2)⋅ℯ   + O⎝(x - 2) ; x → 2⎠"
      ]
     },
     "execution_count": 30,
     "metadata": {},
     "output_type": "execute_result"
    }
   ],
   "source": [
    "x = symbols('x')\n",
    "f = exp(-2 * x)\n",
    "f.series(x, x0=2, n=2)"
   ]
  },
  {
   "cell_type": "code",
   "execution_count": null,
   "metadata": {},
   "outputs": [],
   "source": []
  }
 ],
 "metadata": {
  "kernelspec": {
   "display_name": "Python 3",
   "language": "python",
   "name": "python3"
  },
  "language_info": {
   "codemirror_mode": {
    "name": "ipython",
    "version": 3
   },
   "file_extension": ".py",
   "mimetype": "text/x-python",
   "name": "python",
   "nbconvert_exporter": "python",
   "pygments_lexer": "ipython3",
   "version": "3.5.4"
  }
 },
 "nbformat": 4,
 "nbformat_minor": 2
}
