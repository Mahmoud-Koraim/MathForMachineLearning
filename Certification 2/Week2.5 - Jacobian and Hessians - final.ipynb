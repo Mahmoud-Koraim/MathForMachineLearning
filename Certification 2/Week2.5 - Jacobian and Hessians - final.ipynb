{
 "cells": [
  {
   "cell_type": "code",
   "execution_count": 1,
   "metadata": {},
   "outputs": [],
   "source": [
    "import numpy as np\n",
    "from sympy import *\n",
    "init_printing(use_latex='mathjax')"
   ]
  },
  {
   "cell_type": "code",
   "execution_count": 2,
   "metadata": {},
   "outputs": [],
   "source": [
    "def get_jacobian(expressions, symbols):\n",
    "    rows = len(expressions)\n",
    "    columns = len(symbols)\n",
    "\n",
    "#     print(\"Expressions:\")\n",
    "#     for expression in expressions:\n",
    "#         display(expression)\n",
    "\n",
    "    results = [[0 for x in range(columns)] for y in range(rows)] \n",
    "    for row, expression in enumerate(expressions):\n",
    "        for column, symbol in enumerate(symbols):\n",
    "#             print('Row %d, column %d, expression: %s, symbol: %s' % (row, column, expression, symbol))\n",
    "            df = diff(expression, symbol)\n",
    "#             print(\"DF: %s\" % df)\n",
    "            results[row][column] = df\n",
    "    return results"
   ]
  },
  {
   "cell_type": "code",
   "execution_count": 3,
   "metadata": {},
   "outputs": [],
   "source": [
    "def get_hessians(jacobian, symbols):\n",
    "    jacobian = np.array(jacobian)\n",
    "    rows, columns = jacobian.shape\n",
    "    hessians = [[[None for z in range(len(symbols))] for x in range(columns)] for y in range(rows)] \n",
    "    for row in range(rows):\n",
    "        for column in range(columns):\n",
    "            for index, symbol in enumerate(symbols):\n",
    "                df = diff(jacobian[row, column], symbol)\n",
    "                hessians[row][column][index] = df\n",
    "            \n",
    "    return hessians"
   ]
  },
  {
   "cell_type": "code",
   "execution_count": 14,
   "metadata": {},
   "outputs": [],
   "source": [
    "def evaluate_at(exprs, symbols):\n",
    "    results = []\n",
    "    def process_list(exprs, symbols):\n",
    "        r = []\n",
    "        for expr in exprs:\n",
    "            if isinstance(expr, list):\n",
    "                r.append(process_list(expr, symbols))\n",
    "            else:\n",
    "                r.append(expr.subs(symbols))\n",
    "        return r\n",
    "\n",
    "    results = []\n",
    "    if isinstance(exprs, list):\n",
    "        results.append(process_list(exprs, symbols))\n",
    "    else:\n",
    "        results.append(exprs.subs(symbols))\n",
    "    return results"
   ]
  },
  {
   "cell_type": "code",
   "execution_count": 16,
   "metadata": {},
   "outputs": [
    {
     "name": "stdout",
     "output_type": "stream",
     "text": [
      "Expressions:\n"
     ]
    },
    {
     "data": {
      "text/latex": [
       "$$x^{2} \\cos{\\left (y \\right )} + e^{z} \\sin{\\left (y \\right )}$$"
      ],
      "text/plain": [
       " 2           z       \n",
       "x ⋅cos(y) + ℯ ⋅sin(y)"
      ]
     },
     "metadata": {},
     "output_type": "display_data"
    },
    {
     "data": {
      "text/latex": [
       "$$\\left [ \\left [ \\left [ - 2 \\pi, \\quad - e, \\quad 0\\right ]\\right ]\\right ]$$"
      ],
      "text/plain": [
       "[[[-2⋅π, -ℯ, 0]]]"
      ]
     },
     "execution_count": 16,
     "metadata": {},
     "output_type": "execute_result"
    }
   ],
   "source": [
    "x, y,z = symbols('x y z')\n",
    "s = [x, y, z]\n",
    "expr = x ** 2 * cos(y) + exp(z) * sin(y)\n",
    "j = get_jacobian([expr], s)\n",
    "r = evaluate_at(j, {x: pi, y: pi, z: 1})\n",
    "r"
   ]
  },
  {
   "cell_type": "code",
   "execution_count": 17,
   "metadata": {},
   "outputs": [
    {
     "name": "stdout",
     "output_type": "stream",
     "text": [
      "Expressions:\n"
     ]
    },
    {
     "data": {
      "text/latex": [
       "$$x^{2} y - \\sin{\\left (y \\right )} \\cos{\\left (x \\right )}$$"
      ],
      "text/plain": [
       " 2                  \n",
       "x ⋅y - sin(y)⋅cos(x)"
      ]
     },
     "metadata": {},
     "output_type": "display_data"
    },
    {
     "data": {
      "text/latex": [
       "$$e^{x + y}$$"
      ],
      "text/plain": [
       " x + y\n",
       "ℯ     "
      ]
     },
     "metadata": {},
     "output_type": "display_data"
    },
    {
     "data": {
      "text/latex": [
       "$$\\left [ \\left [ \\left [ 0, \\quad 1\\right ], \\quad \\left [ e^{\\pi}, \\quad e^{\\pi}\\right ]\\right ]\\right ]$$"
      ],
      "text/plain": [
       "⎡⎡        ⎡ π   π⎤⎤⎤\n",
       "⎣⎣[0, 1], ⎣ℯ , ℯ ⎦⎦⎦"
      ]
     },
     "execution_count": 17,
     "metadata": {},
     "output_type": "execute_result"
    }
   ],
   "source": [
    "x, y = symbols('x y')\n",
    "s = [x, y]\n",
    "j = get_jacobian([\n",
    "    x**2 * y - cos(x) * sin(y),\n",
    "    exp(x + y)\n",
    "], s)\n",
    "r = evaluate_at(j, {x: 0, y: pi})\n",
    "r"
   ]
  },
  {
   "cell_type": "code",
   "execution_count": 19,
   "metadata": {},
   "outputs": [
    {
     "name": "stdout",
     "output_type": "stream",
     "text": [
      "Expressions:\n"
     ]
    },
    {
     "data": {
      "text/latex": [
       "$$x^{3} \\cos{\\left (y \\right )} - x \\sin{\\left (y \\right )}$$"
      ],
      "text/plain": [
       " 3                  \n",
       "x ⋅cos(y) - x⋅sin(y)"
      ]
     },
     "metadata": {},
     "output_type": "display_data"
    },
    {
     "data": {
      "text/latex": [
       "$$\\left [ \\left [ \\left [ 6 x \\cos{\\left (y \\right )}, \\quad - 3 x^{2} \\sin{\\left (y \\right )} - \\cos{\\left (y \\right )}\\right ], \\quad \\left [ - 3 x^{2} \\sin{\\left (y \\right )} - \\cos{\\left (y \\right )}, \\quad - x^{3} \\cos{\\left (y \\right )} + x \\sin{\\left (y \\right )}\\right ]\\right ]\\right ]$$"
      ],
      "text/plain": [
       "⎡⎡⎡                 2                ⎤  ⎡     2                     3         \n",
       "⎣⎣⎣6⋅x⋅cos(y), - 3⋅x ⋅sin(y) - cos(y)⎦, ⎣- 3⋅x ⋅sin(y) - cos(y), - x ⋅cos(y) +\n",
       "\n",
       "         ⎤⎤⎤\n",
       " x⋅sin(y)⎦⎦⎦"
      ]
     },
     "execution_count": 19,
     "metadata": {},
     "output_type": "execute_result"
    }
   ],
   "source": [
    "x, y = symbols('x y')\n",
    "s = [x, y]\n",
    "j = get_jacobian([\n",
    "    x ** 3 * cos(y) - x * sin(y)\n",
    "], s)\n",
    "h = get_hessians(j, s)\n",
    "h"
   ]
  },
  {
   "cell_type": "code",
   "execution_count": 20,
   "metadata": {},
   "outputs": [
    {
     "name": "stdout",
     "output_type": "stream",
     "text": [
      "Expressions:\n"
     ]
    },
    {
     "data": {
      "text/latex": [
       "$$x y + z^{3} e^{x} + \\sin{\\left (y \\right )} \\sin{\\left (z \\right )}$$"
      ],
      "text/plain": [
       "       3  x                \n",
       "x⋅y + z ⋅ℯ  + sin(y)⋅sin(z)"
      ]
     },
     "metadata": {},
     "output_type": "display_data"
    },
    {
     "data": {
      "text/latex": [
       "$$\\left [ \\left [ \\left [ z^{3} e^{x}, \\quad 1, \\quad 3 z^{2} e^{x}\\right ], \\quad \\left [ 1, \\quad - \\sin{\\left (y \\right )} \\sin{\\left (z \\right )}, \\quad \\cos{\\left (y \\right )} \\cos{\\left (z \\right )}\\right ], \\quad \\left [ 3 z^{2} e^{x}, \\quad \\cos{\\left (y \\right )} \\cos{\\left (z \\right )}, \\quad 6 z e^{x} - \\sin{\\left (y \\right )} \\sin{\\left (z \\right )}\\right ]\\right ]\\right ]$$"
      ],
      "text/plain": [
       "⎡⎡⎡ 3  x        2  x⎤                                      ⎡   2  x           \n",
       "⎣⎣⎣z ⋅ℯ , 1, 3⋅z ⋅ℯ ⎦, [1, -sin(y)⋅sin(z), cos(y)⋅cos(z)], ⎣3⋅z ⋅ℯ , cos(y)⋅co\n",
       "\n",
       "           x                ⎤⎤⎤\n",
       "s(z), 6⋅z⋅ℯ  - sin(y)⋅sin(z)⎦⎦⎦"
      ]
     },
     "execution_count": 20,
     "metadata": {},
     "output_type": "execute_result"
    }
   ],
   "source": [
    "x, y, z = symbols('x y z')\n",
    "s = [x, y, z]\n",
    "j = get_jacobian([\n",
    "    x * y + sin(y) * sin(z) + z ** 3 * exp(x)\n",
    "], s)\n",
    "h = get_hessians(j, s)\n",
    "h"
   ]
  },
  {
   "cell_type": "code",
   "execution_count": 22,
   "metadata": {},
   "outputs": [
    {
     "name": "stdout",
     "output_type": "stream",
     "text": [
      "Expressions:\n"
     ]
    },
    {
     "data": {
      "text/latex": [
       "$$x y \\cos{\\left (z \\right )} - z^{3} e^{y} \\sin{\\left (x \\right )}$$"
      ],
      "text/plain": [
       "              3  y       \n",
       "x⋅y⋅cos(z) - z ⋅ℯ ⋅sin(x)"
      ]
     },
     "metadata": {},
     "output_type": "display_data"
    },
    {
     "data": {
      "text/latex": [
       "$$\\left [ \\left [ \\left [ \\left [ 0, \\quad 1, \\quad 0\\right ], \\quad \\left [ 1, \\quad 0, \\quad 0\\right ], \\quad \\left [ 0, \\quad 0, \\quad 0\\right ]\\right ]\\right ]\\right ]$$"
      ],
      "text/plain": [
       "[[[[0, 1, 0], [1, 0, 0], [0, 0, 0]]]]"
      ]
     },
     "execution_count": 22,
     "metadata": {},
     "output_type": "execute_result"
    }
   ],
   "source": [
    "x, y, z = symbols('x y z')\n",
    "s = [x, y, z]\n",
    "j = get_jacobian([\n",
    "    x * y *  cos(z) - sin(x) * exp(y) * z ** 3\n",
    "], s)\n",
    "h = get_hessians(j, s)\n",
    "evaluate_at(h, {x: 0, y: 0, z: 0 })"
   ]
  },
  {
   "cell_type": "code",
   "execution_count": null,
   "metadata": {},
   "outputs": [],
   "source": []
  }
 ],
 "metadata": {
  "kernelspec": {
   "display_name": "Python 3",
   "language": "python",
   "name": "python3"
  },
  "language_info": {
   "codemirror_mode": {
    "name": "ipython",
    "version": 3
   },
   "file_extension": ".py",
   "mimetype": "text/x-python",
   "name": "python",
   "nbconvert_exporter": "python",
   "pygments_lexer": "ipython3",
   "version": "3.5.4"
  }
 },
 "nbformat": 4,
 "nbformat_minor": 2
}
