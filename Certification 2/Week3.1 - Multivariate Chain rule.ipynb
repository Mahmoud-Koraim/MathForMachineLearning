{
 "cells": [
  {
   "cell_type": "code",
   "execution_count": 1,
   "metadata": {},
   "outputs": [],
   "source": [
    "import numpy as np\n",
    "from sympy import *\n",
    "init_printing(use_latex='mathjax')"
   ]
  },
  {
   "cell_type": "code",
   "execution_count": 3,
   "metadata": {},
   "outputs": [
    {
     "data": {
      "text/latex": [
       "$$\\left[\\begin{matrix}2 x_{1} x_{2}^{2} + x_{2} & 2 x_{1}^{2} x_{2} + x_{1} & 0\\\\0 & 0 & - 2 t\\\\0 & 0 & 2 t\\end{matrix}\\right]$$"
      ],
      "text/plain": [
       "⎡       2           2              ⎤\n",
       "⎢2⋅x₁⋅x₂  + x₂  2⋅x₁ ⋅x₂ + x₁   0  ⎥\n",
       "⎢                                  ⎥\n",
       "⎢      0              0        -2⋅t⎥\n",
       "⎢                                  ⎥\n",
       "⎣      0              0        2⋅t ⎦"
      ]
     },
     "execution_count": 3,
     "metadata": {},
     "output_type": "execute_result"
    }
   ],
   "source": [
    "x1, x2, t = symbols('x1 x2 t')\n",
    "\n",
    "F = Matrix([\n",
    "    x1 ** 2 * x2 ** 2 + x1 * x2,\n",
    "    1 - t ** 2,\n",
    "    1 + t ** 2\n",
    "])\n",
    "F.jacobian([x1,x2, t])"
   ]
  },
  {
   "cell_type": "code",
   "execution_count": 5,
   "metadata": {},
   "outputs": [
    {
     "data": {
      "text/latex": [
       "$$\\left[\\begin{matrix}3 x_{1}^{2} e^{x_{3}} \\cos{\\left (x_{2} \\right )} & - x_{1}^{3} e^{x_{3}} \\sin{\\left (x_{2} \\right )} & x_{1}^{3} e^{x_{3}} \\cos{\\left (x_{2} \\right )}\\end{matrix}\\right]$$"
      ],
      "text/plain": [
       "⎡    2  x₃             3  x₃            3  x₃        ⎤\n",
       "⎣3⋅x₁ ⋅ℯ  ⋅cos(x₂)  -x₁ ⋅ℯ  ⋅sin(x₂)  x₁ ⋅ℯ  ⋅cos(x₂)⎦"
      ]
     },
     "metadata": {},
     "output_type": "display_data"
    },
    {
     "data": {
      "text/latex": [
       "$$\\left[\\begin{matrix}2\\\\- 2 t\\\\e^{t}\\end{matrix}\\right]$$"
      ],
      "text/plain": [
       "⎡ 2  ⎤\n",
       "⎢    ⎥\n",
       "⎢-2⋅t⎥\n",
       "⎢    ⎥\n",
       "⎢  t ⎥\n",
       "⎣ ℯ  ⎦"
      ]
     },
     "metadata": {},
     "output_type": "display_data"
    }
   ],
   "source": [
    "x1, x2, x3, t = symbols('x1 x2 x3 t')\n",
    "\n",
    "F = Matrix([\n",
    "       x1 ** 3 * cos(x2) * exp(x3)\n",
    "])\n",
    "T = Matrix([\n",
    "    2 * t,\n",
    "    1 - t ** 2,\n",
    "    exp(t)\n",
    "])\n",
    "jf = F.jacobian([x1,x2, x3])\n",
    "jt = T.jacobian([t])\n",
    "display(jf)\n",
    "display(jt)"
   ]
  },
  {
   "cell_type": "code",
   "execution_count": 6,
   "metadata": {},
   "outputs": [
    {
     "data": {
      "text/latex": [
       "$$\\left[\\begin{matrix}2 x_{1} & - 2 x_{2} & 0\\end{matrix}\\right]$$"
      ],
      "text/plain": [
       "[2⋅x₁  -2⋅x₂  0]"
      ]
     },
     "metadata": {},
     "output_type": "display_data"
    },
    {
     "data": {
      "text/latex": [
       "$$\\left[\\begin{matrix}2 & 3\\\\2 & -3\\end{matrix}\\right]$$"
      ],
      "text/plain": [
       "⎡2  3 ⎤\n",
       "⎢     ⎥\n",
       "⎣2  -3⎦"
      ]
     },
     "metadata": {},
     "output_type": "display_data"
    },
    {
     "data": {
      "text/latex": [
       "$$\\left[\\begin{matrix}- \\frac{1}{2} \\sin{\\left (\\frac{t}{2} \\right )}\\\\2 \\cos{\\left (2 t \\right )}\\end{matrix}\\right]$$"
      ],
      "text/plain": [
       "⎡     ⎛t⎞  ⎤\n",
       "⎢ -sin⎜─⎟  ⎥\n",
       "⎢     ⎝2⎠  ⎥\n",
       "⎢ ──────── ⎥\n",
       "⎢    2     ⎥\n",
       "⎢          ⎥\n",
       "⎣2⋅cos(2⋅t)⎦"
      ]
     },
     "metadata": {},
     "output_type": "display_data"
    }
   ],
   "source": [
    "x1, x2, u1, u2, t = symbols('x1 x2 u1, u2, t')\n",
    "\n",
    "F = Matrix([\n",
    "    x1 ** 2 - x2 ** 2\n",
    "])\n",
    "U = Matrix([\n",
    "    2 * u1 + 3 * u2,\n",
    "    2 * u1 - 3 * u2\n",
    "])\n",
    "T = Matrix([\n",
    "    cos(t / 2),\n",
    "    sin(2 * t)\n",
    "])\n",
    "jf = F.jacobian([x1,x2, x3])\n",
    "ju = U.jacobian([u1, u2])\n",
    "jt = T.jacobian([t])\n",
    "display(jf)\n",
    "display(ju)\n",
    "display(jt)"
   ]
  },
  {
   "cell_type": "code",
   "execution_count": 7,
   "metadata": {},
   "outputs": [
    {
     "data": {
      "text/latex": [
       "$$\\left[\\begin{matrix}- \\sin{\\left (x_{1} \\right )} \\sin{\\left (x_{2} \\right )} & \\cos{\\left (x_{1} \\right )} \\cos{\\left (x_{2} \\right )} & 0\\end{matrix}\\right]$$"
      ],
      "text/plain": [
       "[-sin(x₁)⋅sin(x₂)  cos(x₁)⋅cos(x₂)  0]"
      ]
     },
     "metadata": {},
     "output_type": "display_data"
    },
    {
     "data": {
      "text/latex": [
       "$$\\left[\\begin{matrix}4 u_{1} & 6 u_{2} - 1\\\\2 & - 15 u_{2}^{2}\\end{matrix}\\right]$$"
      ],
      "text/plain": [
       "⎡4⋅u₁  6⋅u₂ - 1⎤\n",
       "⎢              ⎥\n",
       "⎢            2 ⎥\n",
       "⎣ 2    -15⋅u₂  ⎦"
      ]
     },
     "metadata": {},
     "output_type": "display_data"
    },
    {
     "data": {
      "text/latex": [
       "$$\\left[\\begin{matrix}\\frac{e^{\\frac{t}{2}}}{2}\\\\- 2 e^{- 2 t}\\end{matrix}\\right]$$"
      ],
      "text/plain": [
       "⎡    t   ⎤\n",
       "⎢    ─   ⎥\n",
       "⎢    2   ⎥\n",
       "⎢   ℯ    ⎥\n",
       "⎢   ──   ⎥\n",
       "⎢   2    ⎥\n",
       "⎢        ⎥\n",
       "⎢    -2⋅t⎥\n",
       "⎣-2⋅ℯ    ⎦"
      ]
     },
     "metadata": {},
     "output_type": "display_data"
    }
   ],
   "source": [
    "x1, x2, u1, u2, t = symbols('x1 x2 u1, u2, t')\n",
    "\n",
    "F = Matrix([\n",
    "    cos(x1)*sin(x2)\n",
    "])\n",
    "U = Matrix([\n",
    "    2 * u1 ** 2 + 3 * u2 ** 2 - u2,\n",
    "    2 * u1 - 5 * u2 ** 3\n",
    "])\n",
    "T = Matrix([\n",
    "    exp(t / 2),\n",
    "    exp(-2 * t)\n",
    "])\n",
    "jf = F.jacobian([x1,x2, x3])\n",
    "ju = U.jacobian([u1, u2])\n",
    "jt = T.jacobian([t])\n",
    "display(jf)\n",
    "display(ju)\n",
    "display(jt)"
   ]
  },
  {
   "cell_type": "code",
   "execution_count": 8,
   "metadata": {},
   "outputs": [
    {
     "data": {
      "text/latex": [
       "$$\\left[\\begin{matrix}e^{x_{3}} \\cos{\\left (x_{1} \\right )} \\cos{\\left (x_{2} \\right )} & - e^{x_{3}} \\sin{\\left (x_{1} \\right )} \\sin{\\left (x_{2} \\right )} & e^{x_{3}} \\sin{\\left (x_{1} \\right )} \\cos{\\left (x_{2} \\right )}\\end{matrix}\\right]$$"
      ],
      "text/plain": [
       "⎡ x₃                    x₃                   x₃                ⎤\n",
       "⎣ℯ  ⋅cos(x₁)⋅cos(x₂)  -ℯ  ⋅sin(x₁)⋅sin(x₂)  ℯ  ⋅sin(x₁)⋅cos(x₂)⎦"
      ]
     },
     "metadata": {},
     "output_type": "display_data"
    },
    {
     "data": {
      "text/latex": [
       "$$\\left[\\begin{matrix}\\cos{\\left (u_{1} \\right )} & - \\sin{\\left (u_{2} \\right )}\\\\- \\sin{\\left (u_{1} \\right )} & - \\cos{\\left (u_{2} \\right )}\\\\e^{u_{1} + u_{2}} & e^{u_{1} + u_{2}}\\end{matrix}\\right]$$"
      ],
      "text/plain": [
       "⎡cos(u₁)   -sin(u₂)⎤\n",
       "⎢                  ⎥\n",
       "⎢-sin(u₁)  -cos(u₂)⎥\n",
       "⎢                  ⎥\n",
       "⎢ u₁ + u₂   u₁ + u₂⎥\n",
       "⎣ℯ         ℯ       ⎦"
      ]
     },
     "metadata": {},
     "output_type": "display_data"
    },
    {
     "data": {
      "text/latex": [
       "$$\\left[\\begin{matrix}\\frac{1}{2}\\\\- \\frac{1}{2}\\end{matrix}\\right]$$"
      ],
      "text/plain": [
       "⎡1/2 ⎤\n",
       "⎢    ⎥\n",
       "⎣-1/2⎦"
      ]
     },
     "metadata": {},
     "output_type": "display_data"
    }
   ],
   "source": [
    "x1, x2, x3, u1, u2, t = symbols('x1 x2 x3 u1 u2 t')\n",
    "\n",
    "F = Matrix([\n",
    "    sin(x1) * cos(x2) * exp(x3)\n",
    "])\n",
    "U = Matrix([\n",
    "    sin(u1) + cos(u2),\n",
    "    cos(u1) - sin(u2),\n",
    "    exp(u1 + u2)\n",
    "])\n",
    "T = Matrix([\n",
    "    1 + t / 2,\n",
    "    1 - t / 2\n",
    "])\n",
    "jf = F.jacobian([x1,x2, x3])\n",
    "ju = U.jacobian([u1, u2])\n",
    "jt = T.jacobian([t])\n",
    "display(jf)\n",
    "display(ju)\n",
    "display(jt)"
   ]
  },
  {
   "cell_type": "code",
   "execution_count": null,
   "metadata": {},
   "outputs": [],
   "source": []
  }
 ],
 "metadata": {
  "kernelspec": {
   "display_name": "Python 3",
   "language": "python",
   "name": "python3"
  },
  "language_info": {
   "codemirror_mode": {
    "name": "ipython",
    "version": 3
   },
   "file_extension": ".py",
   "mimetype": "text/x-python",
   "name": "python",
   "nbconvert_exporter": "python",
   "pygments_lexer": "ipython3",
   "version": "3.5.4"
  }
 },
 "nbformat": 4,
 "nbformat_minor": 2
}
