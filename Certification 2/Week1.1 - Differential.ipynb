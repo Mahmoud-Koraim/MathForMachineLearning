{
 "cells": [
  {
   "cell_type": "code",
   "execution_count": 1,
   "metadata": {},
   "outputs": [],
   "source": [
    "from sympy import *\n",
    "init_printing(use_latex='mathjax')"
   ]
  },
  {
   "cell_type": "code",
   "execution_count": 2,
   "metadata": {},
   "outputs": [],
   "source": [
    "def get_diff(symbol, expression):\n",
    "    return diff(expression, symbol)"
   ]
  },
  {
   "cell_type": "code",
   "execution_count": 3,
   "metadata": {},
   "outputs": [
    {
     "data": {
      "text/latex": [
       "$$6 x + 3$$"
      ],
      "text/plain": [
       "6⋅x + 3"
      ]
     },
     "execution_count": 3,
     "metadata": {},
     "output_type": "execute_result"
    }
   ],
   "source": [
    "x = symbols('x')\n",
    "get_diff(x, (x + 2) * (3 * x - 3))"
   ]
  },
  {
   "cell_type": "code",
   "execution_count": 4,
   "metadata": {
    "scrolled": true
   },
   "outputs": [
    {
     "data": {
      "text/latex": [
       "$$\\left(2 x - \\cos{\\left (x \\right )} + 7\\right) e^{x} + \\left(x^{2} + 7 x - \\sin{\\left (x \\right )} - 3\\right) e^{x}$$"
      ],
      "text/plain": [
       "                    x   ⎛ 2                   ⎞  x\n",
       "(2⋅x - cos(x) + 7)⋅ℯ  + ⎝x  + 7⋅x - sin(x) - 3⎠⋅ℯ "
      ]
     },
     "execution_count": 4,
     "metadata": {},
     "output_type": "execute_result"
    }
   ],
   "source": [
    "x = symbols('x')\n",
    "get_diff(x, exp(x) * ( x ** 2 + 7 * x - 3 - sin(x) ))"
   ]
  },
  {
   "cell_type": "code",
   "execution_count": 5,
   "metadata": {},
   "outputs": [],
   "source": [
    "f =  (x**2 - 2 * x + 5)"
   ]
  },
  {
   "cell_type": "code",
   "execution_count": 6,
   "metadata": {},
   "outputs": [],
   "source": [
    "g = (sin(x) + cos(x))"
   ]
  },
  {
   "cell_type": "code",
   "execution_count": 7,
   "metadata": {},
   "outputs": [],
   "source": [
    "x = symbols('x')\n",
    "fp=get_diff(x, f)"
   ]
  },
  {
   "cell_type": "code",
   "execution_count": 8,
   "metadata": {},
   "outputs": [],
   "source": [
    "x = symbols('x')\n",
    "gp=get_diff(x, g)"
   ]
  },
  {
   "cell_type": "code",
   "execution_count": 9,
   "metadata": {},
   "outputs": [
    {
     "data": {
      "text/latex": [
       "$$\\left(2 x - 2\\right) \\left(\\sin{\\left (x \\right )} + \\cos{\\left (x \\right )}\\right) + \\left(- \\sin{\\left (x \\right )} + \\cos{\\left (x \\right )}\\right) \\left(x^{2} - 2 x + 5\\right)$$"
      ],
      "text/plain": [
       "                                                 ⎛ 2          ⎞\n",
       "(2⋅x - 2)⋅(sin(x) + cos(x)) + (-sin(x) + cos(x))⋅⎝x  - 2⋅x + 5⎠"
      ]
     },
     "execution_count": 9,
     "metadata": {},
     "output_type": "execute_result"
    }
   ],
   "source": [
    "f * gp + g * fp"
   ]
  },
  {
   "cell_type": "code",
   "execution_count": 10,
   "metadata": {},
   "outputs": [
    {
     "data": {
      "text/latex": [
       "$$\\left(3 x \\sin{\\left (x \\right )} + 3 x \\cos{\\left (x \\right )} + \\sin{\\left (x \\right )} - 2 \\cos{\\left (x \\right )}\\right) e^{x}$$"
      ],
      "text/plain": [
       "                                               x\n",
       "(3⋅x⋅sin(x) + 3⋅x⋅cos(x) + sin(x) - 2⋅cos(x))⋅ℯ "
      ]
     },
     "execution_count": 10,
     "metadata": {},
     "output_type": "execute_result"
    }
   ],
   "source": [
    "x = symbols('x')\n",
    "fp = get_diff(x, exp(x) * (3 * x - 2 ) * sin(x))\n",
    "factor(simplify(fp))"
   ]
  },
  {
   "cell_type": "code",
   "execution_count": 11,
   "metadata": {},
   "outputs": [
    {
     "data": {
      "text/latex": [
       "$$\\left(- 0.666666666666667 e^{x} + 1.66666666666667\\right) e^{x}$$"
      ],
      "text/plain": [
       "⎛                     x                   ⎞  x\n",
       "⎝- 0.666666666666667⋅ℯ  + 1.66666666666667⎠⋅ℯ "
      ]
     },
     "execution_count": 11,
     "metadata": {},
     "output_type": "execute_result"
    }
   ],
   "source": [
    "x = symbols('x')\n",
    "fp = get_diff(x, - 1 / 3 * ( exp(x) - 1) ** 2 + (exp(x) - 1) + 1/5)\n",
    "simplify(fp)"
   ]
  },
  {
   "cell_type": "code",
   "execution_count": 12,
   "metadata": {},
   "outputs": [
    {
     "data": {
      "text/latex": [
       "$$\\frac{\\frac{3 x^{2}}{2} - 1}{\\sqrt{x^{3} - 2 x}}$$"
      ],
      "text/plain": [
       "      2      \n",
       "   3⋅x       \n",
       "   ──── - 1  \n",
       "    2        \n",
       "─────────────\n",
       "   __________\n",
       "  ╱  3       \n",
       "╲╱  x  - 2⋅x "
      ]
     },
     "execution_count": 12,
     "metadata": {},
     "output_type": "execute_result"
    }
   ],
   "source": [
    "x = symbols('x')\n",
    "fp = get_diff(x, sqrt(x ** 3 - 2 * x ) )\n",
    "fp"
   ]
  },
  {
   "cell_type": "code",
   "execution_count": 13,
   "metadata": {},
   "outputs": [
    {
     "data": {
      "text/latex": [
       "$$3 x^{2} e^{x^{3} - 3}$$"
      ],
      "text/plain": [
       "       3    \n",
       "   2  x  - 3\n",
       "3⋅x ⋅ℯ      "
      ]
     },
     "execution_count": 13,
     "metadata": {},
     "output_type": "execute_result"
    }
   ],
   "source": [
    "x = symbols('x')\n",
    "fp = get_diff(x, exp(x ** 3 - 3 ))\n",
    "fp"
   ]
  },
  {
   "cell_type": "code",
   "execution_count": 14,
   "metadata": {},
   "outputs": [
    {
     "data": {
      "text/latex": [
       "$$\\frac{1}{2} \\sqrt{e^{x + 2}}$$"
      ],
      "text/plain": [
       "   ________\n",
       "  ╱  x + 2 \n",
       "╲╱  ℯ      \n",
       "───────────\n",
       "     2     "
      ]
     },
     "execution_count": 14,
     "metadata": {},
     "output_type": "execute_result"
    }
   ],
   "source": [
    "x = symbols('x')\n",
    "fp = get_diff(x, sqrt(exp(x + 2)))\n",
    "simplify(fp)"
   ]
  },
  {
   "cell_type": "code",
   "execution_count": 16,
   "metadata": {},
   "outputs": [
    {
     "data": {
      "text/latex": [
       "$$1.5 x^{0.5} + 2 \\pi x$$"
      ],
      "text/plain": [
       "     0.5        \n",
       "1.5⋅x    + 2⋅π⋅x"
      ]
     },
     "execution_count": 16,
     "metadata": {},
     "output_type": "execute_result"
    }
   ],
   "source": [
    "x = symbols('x')\n",
    "fp = get_diff(x, x ** (3/2) + pi * x ** 2 + sqrt(7))\n",
    "fp"
   ]
  },
  {
   "cell_type": "code",
   "execution_count": 17,
   "metadata": {},
   "outputs": [
    {
     "data": {
      "text/latex": [
       "$$- x^{3} e^{x} \\sin{\\left (x \\right )} + x^{3} e^{x} \\cos{\\left (x \\right )} + 3 x^{2} e^{x} \\cos{\\left (x \\right )}$$"
      ],
      "text/plain": [
       "   3  x           3  x             2  x       \n",
       "- x ⋅ℯ ⋅sin(x) + x ⋅ℯ ⋅cos(x) + 3⋅x ⋅ℯ ⋅cos(x)"
      ]
     },
     "execution_count": 17,
     "metadata": {},
     "output_type": "execute_result"
    }
   ],
   "source": [
    "x = symbols('x')\n",
    "fp = get_diff(x, x ** 3 * cos(x) * exp(x))\n",
    "fp"
   ]
  },
  {
   "cell_type": "code",
   "execution_count": 18,
   "metadata": {},
   "outputs": [
    {
     "data": {
      "text/latex": [
       "$$\\left(2 x + 2\\right) e^{\\left(x + 1\\right)^{2}}$$"
      ],
      "text/plain": [
       "           ⎛       2⎞\n",
       "           ⎝(x + 1) ⎠\n",
       "(2⋅x + 2)⋅ℯ          "
      ]
     },
     "execution_count": 18,
     "metadata": {},
     "output_type": "execute_result"
    }
   ],
   "source": [
    "x = symbols('x')\n",
    "fp = get_diff(x, exp((x + 1) ** 2))\n",
    "fp"
   ]
  },
  {
   "cell_type": "code",
   "execution_count": 19,
   "metadata": {},
   "outputs": [
    {
     "data": {
      "text/latex": [
       "$$- 3 x^{4} \\sin{\\left (x^{3} \\right )} + 2 x \\cos{\\left (x^{3} \\right )}$$"
      ],
      "text/plain": [
       "     4    ⎛ 3⎞          ⎛ 3⎞\n",
       "- 3⋅x ⋅sin⎝x ⎠ + 2⋅x⋅cos⎝x ⎠"
      ]
     },
     "execution_count": 19,
     "metadata": {},
     "output_type": "execute_result"
    }
   ],
   "source": [
    "x = symbols('x')\n",
    "fp = get_diff(x, x ** 2 * cos(x ** 3))\n",
    "fp"
   ]
  },
  {
   "cell_type": "code",
   "execution_count": 20,
   "metadata": {},
   "outputs": [
    {
     "data": {
      "text/latex": [
       "$$- e^{\\cos{\\left (x \\right )}} \\sin^{2}{\\left (x \\right )} + e^{\\cos{\\left (x \\right )}} \\cos{\\left (x \\right )}$$"
      ],
      "text/plain": [
       "   cos(x)    2       cos(x)       \n",
       "- ℯ      ⋅sin (x) + ℯ      ⋅cos(x)"
      ]
     },
     "execution_count": 20,
     "metadata": {},
     "output_type": "execute_result"
    }
   ],
   "source": [
    "x = symbols('x')\n",
    "fp = get_diff(x, sin(x) * exp(cos(x)))\n",
    "fp"
   ]
  },
  {
   "cell_type": "code",
   "execution_count": 30,
   "metadata": {},
   "outputs": [
    {
     "data": {
      "text/latex": [
       "$$-0.367879441171442$$"
      ],
      "text/plain": [
       "-0.367879441171442"
      ]
     },
     "execution_count": 30,
     "metadata": {},
     "output_type": "execute_result"
    }
   ],
   "source": [
    "fp.evalf(subs={x: pi})"
   ]
  },
  {
   "cell_type": "code",
   "execution_count": 31,
   "metadata": {},
   "outputs": [
    {
     "data": {
      "text/latex": [
       "$$2 \\pi$$"
      ],
      "text/plain": [
       "2⋅π"
      ]
     },
     "execution_count": 31,
     "metadata": {},
     "output_type": "execute_result"
    }
   ],
   "source": [
    "nsimplify(6.28, [pi], tolerance=0.01)"
   ]
  },
  {
   "cell_type": "code",
   "execution_count": 35,
   "metadata": {},
   "outputs": [
    {
     "data": {
      "text/latex": [
       "$$0.367879441171442$$"
      ],
      "text/plain": [
       "0.367879441171442"
      ]
     },
     "execution_count": 35,
     "metadata": {},
     "output_type": "execute_result"
    }
   ],
   "source": [
    "(1 / exp(1)).evalf()"
   ]
  },
  {
   "cell_type": "code",
   "execution_count": null,
   "metadata": {},
   "outputs": [],
   "source": []
  }
 ],
 "metadata": {
  "kernelspec": {
   "display_name": "Python 3",
   "language": "python",
   "name": "python3"
  },
  "language_info": {
   "codemirror_mode": {
    "name": "ipython",
    "version": 3
   },
   "file_extension": ".py",
   "mimetype": "text/x-python",
   "name": "python",
   "nbconvert_exporter": "python",
   "pygments_lexer": "ipython3",
   "version": "3.5.4"
  }
 },
 "nbformat": 4,
 "nbformat_minor": 2
}
