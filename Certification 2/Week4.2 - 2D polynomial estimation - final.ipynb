{
 "cells": [
  {
   "cell_type": "code",
   "execution_count": 1,
   "metadata": {},
   "outputs": [],
   "source": [
    "import numpy as np\n",
    "from sympy import *\n",
    "init_printing(use_latex='mathjax')"
   ]
  },
  {
   "cell_type": "code",
   "execution_count": 2,
   "metadata": {},
   "outputs": [],
   "source": [
    "def get_jacobian(expressions, symbols):\n",
    "    rows = len(expressions)\n",
    "    columns = len(symbols)\n",
    "\n",
    "#     print(\"Expressions:\")\n",
    "#     for expression in expressions:\n",
    "#         display(expression)\n",
    "\n",
    "    results = [[0 for x in range(columns)] for y in range(rows)] \n",
    "    for row, expression in enumerate(expressions):\n",
    "        for column, symbol in enumerate(symbols):\n",
    "#             print('Row %d, column %d, expression: %s, symbol: %s' % (row, column, expression, symbol))\n",
    "            df = diff(expression, symbol)\n",
    "#             print(\"DF: %s\" % df)\n",
    "            results[row][column] = df\n",
    "    return results"
   ]
  },
  {
   "cell_type": "code",
   "execution_count": 3,
   "metadata": {},
   "outputs": [],
   "source": [
    "def get_hessians(jacobian, symbols):\n",
    "    jacobian = np.array(jacobian)\n",
    "    rows, columns = jacobian.shape\n",
    "    hessians = [[[None for z in range(len(symbols))] for x in range(columns)] for y in range(rows)] \n",
    "    for row in range(rows):\n",
    "        for column in range(columns):\n",
    "            for index, symbol in enumerate(symbols):\n",
    "                df = diff(jacobian[row, column], symbol)\n",
    "                hessians[row][column][index] = df\n",
    "            \n",
    "    return hessians"
   ]
  },
  {
   "cell_type": "code",
   "execution_count": 13,
   "metadata": {},
   "outputs": [],
   "source": [
    "def evaluate_at(exprs, symbols):\n",
    "    results = []\n",
    "    def process_list(exprs, symbols):\n",
    "        r = []\n",
    "        for expr in exprs:\n",
    "            if isinstance(expr, list):\n",
    "                r.append(process_list(expr, symbols))\n",
    "            else:\n",
    "                r.append(expr.subs(symbols))\n",
    "        return r\n",
    "\n",
    "    \n",
    "    if isinstance(exprs, list):\n",
    "        results = process_list(exprs, symbols)\n",
    "    else:\n",
    "        results = []\n",
    "        results.append(exprs.subs(symbols))\n",
    "    return results"
   ]
  },
  {
   "cell_type": "code",
   "execution_count": 33,
   "metadata": {},
   "outputs": [
    {
     "data": {
      "text/latex": [
       "$$\\left [ \\left [ \\left [ - 2 \\pi, \\quad -2\\right ], \\quad \\left [ -2, \\quad 0\\right ]\\right ]\\right ]$$"
      ],
      "text/plain": [
       "[[[-2⋅π, -2], [-2, 0]]]"
      ]
     },
     "execution_count": 33,
     "metadata": {},
     "output_type": "execute_result"
    }
   ],
   "source": [
    "x, y = symbols('x y')\n",
    "f = sin(pi * x - y * x ** 2 )\n",
    "j = get_jacobian([f], [x,y])\n",
    "h = get_hessians(j, [x,y])\n",
    "evaluate_at(h, {x: 1, y: pi})"
   ]
  },
  {
   "cell_type": "code",
   "execution_count": null,
   "metadata": {},
   "outputs": [],
   "source": []
  }
 ],
 "metadata": {
  "kernelspec": {
   "display_name": "Python 3",
   "language": "python",
   "name": "python3"
  },
  "language_info": {
   "codemirror_mode": {
    "name": "ipython",
    "version": 3
   },
   "file_extension": ".py",
   "mimetype": "text/x-python",
   "name": "python",
   "nbconvert_exporter": "python",
   "pygments_lexer": "ipython3",
   "version": "3.5.4"
  }
 },
 "nbformat": 4,
 "nbformat_minor": 2
}
