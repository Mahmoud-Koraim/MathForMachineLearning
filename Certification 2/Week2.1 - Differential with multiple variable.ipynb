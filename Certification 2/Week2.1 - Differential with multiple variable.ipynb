{
 "cells": [
  {
   "cell_type": "code",
   "execution_count": 1,
   "metadata": {},
   "outputs": [],
   "source": [
    "from sympy import *\n",
    "init_printing(use_latex='mathjax')"
   ]
  },
  {
   "cell_type": "code",
   "execution_count": 2,
   "metadata": {},
   "outputs": [],
   "source": [
    "def get_diff(expression, *symbols):\n",
    "    print(\"Expression:\")\n",
    "    display(expression)\n",
    "    results = []\n",
    "    for symbol in symbols:\n",
    "        print(\"derivated by \", symbol)\n",
    "        df = diff(expression, symbol)\n",
    "        display(df)\n",
    "        results.append(df)\n",
    "    return results"
   ]
  },
  {
   "cell_type": "code",
   "execution_count": 3,
   "metadata": {},
   "outputs": [
    {
     "name": "stdout",
     "output_type": "stream",
     "text": [
      "Expression:\n"
     ]
    },
    {
     "data": {
      "text/latex": [
       "$$e^{y z^{2}} \\sin{\\left (x \\right )}$$"
      ],
      "text/plain": [
       "    2       \n",
       " y⋅z        \n",
       "ℯ    ⋅sin(x)"
      ]
     },
     "metadata": {},
     "output_type": "display_data"
    },
    {
     "name": "stdout",
     "output_type": "stream",
     "text": [
      "derivated by  z\n"
     ]
    },
    {
     "data": {
      "text/latex": [
       "$$2 y z e^{y z^{2}} \\sin{\\left (x \\right )}$$"
      ],
      "text/plain": [
       "          2       \n",
       "       y⋅z        \n",
       "2⋅y⋅z⋅ℯ    ⋅sin(x)"
      ]
     },
     "metadata": {},
     "output_type": "display_data"
    },
    {
     "data": {
      "text/latex": [
       "$$\\left [ 2 y z e^{y z^{2}} \\sin{\\left (x \\right )}\\right ]$$"
      ],
      "text/plain": [
       "⎡          2       ⎤\n",
       "⎢       y⋅z        ⎥\n",
       "⎣2⋅y⋅z⋅ℯ    ⋅sin(x)⎦"
      ]
     },
     "execution_count": 3,
     "metadata": {},
     "output_type": "execute_result"
    }
   ],
   "source": [
    "x, y, z = symbols('x y z')\n",
    "expr = sin(x) * exp(y * z ** 2)\n",
    "get_diff(expr, z)"
   ]
  },
  {
   "cell_type": "code",
   "execution_count": 4,
   "metadata": {},
   "outputs": [
    {
     "name": "stdout",
     "output_type": "stream",
     "text": [
      "Expression:\n"
     ]
    },
    {
     "data": {
      "text/latex": [
       "$$m y^{4} + \\pi x^{3} + x y^{2}$$"
      ],
      "text/plain": [
       "   4      3      2\n",
       "m⋅y  + π⋅x  + x⋅y "
      ]
     },
     "metadata": {},
     "output_type": "display_data"
    },
    {
     "name": "stdout",
     "output_type": "stream",
     "text": [
      "derivated by  y\n"
     ]
    },
    {
     "data": {
      "text/latex": [
       "$$4 m y^{3} + 2 x y$$"
      ],
      "text/plain": [
       "     3        \n",
       "4⋅m⋅y  + 2⋅x⋅y"
      ]
     },
     "metadata": {},
     "output_type": "display_data"
    },
    {
     "data": {
      "text/latex": [
       "$$\\left [ 4 m y^{3} + 2 x y\\right ]$$"
      ],
      "text/plain": [
       "⎡     3        ⎤\n",
       "⎣4⋅m⋅y  + 2⋅x⋅y⎦"
      ]
     },
     "execution_count": 4,
     "metadata": {},
     "output_type": "execute_result"
    }
   ],
   "source": [
    "x, y, m = symbols('x y m')\n",
    "expr = pi * x ** 3 + x * y ** 2 + m * y ** 4\n",
    "get_diff(expr, y)"
   ]
  },
  {
   "cell_type": "code",
   "execution_count": 5,
   "metadata": {},
   "outputs": [
    {
     "name": "stdout",
     "output_type": "stream",
     "text": [
      "Expression:\n"
     ]
    },
    {
     "data": {
      "text/latex": [
       "$$m y^{4} + \\pi x^{3} + x y^{2}$$"
      ],
      "text/plain": [
       "   4      3      2\n",
       "m⋅y  + π⋅x  + x⋅y "
      ]
     },
     "metadata": {},
     "output_type": "display_data"
    },
    {
     "name": "stdout",
     "output_type": "stream",
     "text": [
      "derivated by  y\n"
     ]
    },
    {
     "data": {
      "text/latex": [
       "$$4 m y^{3} + 2 x y$$"
      ],
      "text/plain": [
       "     3        \n",
       "4⋅m⋅y  + 2⋅x⋅y"
      ]
     },
     "metadata": {},
     "output_type": "display_data"
    },
    {
     "data": {
      "text/latex": [
       "$$\\left [ 4 m y^{3} + 2 x y\\right ]$$"
      ],
      "text/plain": [
       "⎡     3        ⎤\n",
       "⎣4⋅m⋅y  + 2⋅x⋅y⎦"
      ]
     },
     "execution_count": 5,
     "metadata": {},
     "output_type": "execute_result"
    }
   ],
   "source": [
    "x, y, m = symbols('x y m')\n",
    "expr = pi * x ** 3 + x * y ** 2 + m * y ** 4\n",
    "get_diff(expr, y)"
   ]
  },
  {
   "cell_type": "code",
   "execution_count": 6,
   "metadata": {},
   "outputs": [
    {
     "name": "stdout",
     "output_type": "stream",
     "text": [
      "Expression:\n"
     ]
    },
    {
     "data": {
      "text/latex": [
       "$$x^{2} y + x z^{2} + y^{2} z$$"
      ],
      "text/plain": [
       " 2        2    2  \n",
       "x ⋅y + x⋅z  + y ⋅z"
      ]
     },
     "metadata": {},
     "output_type": "display_data"
    },
    {
     "name": "stdout",
     "output_type": "stream",
     "text": [
      "derivated by  x\n"
     ]
    },
    {
     "data": {
      "text/latex": [
       "$$2 x y + z^{2}$$"
      ],
      "text/plain": [
       "         2\n",
       "2⋅x⋅y + z "
      ]
     },
     "metadata": {},
     "output_type": "display_data"
    },
    {
     "name": "stdout",
     "output_type": "stream",
     "text": [
      "derivated by  y\n"
     ]
    },
    {
     "data": {
      "text/latex": [
       "$$x^{2} + 2 y z$$"
      ],
      "text/plain": [
       " 2        \n",
       "x  + 2⋅y⋅z"
      ]
     },
     "metadata": {},
     "output_type": "display_data"
    },
    {
     "name": "stdout",
     "output_type": "stream",
     "text": [
      "derivated by  z\n"
     ]
    },
    {
     "data": {
      "text/latex": [
       "$$2 x z + y^{2}$$"
      ],
      "text/plain": [
       "         2\n",
       "2⋅x⋅z + y "
      ]
     },
     "metadata": {},
     "output_type": "display_data"
    },
    {
     "data": {
      "text/latex": [
       "$$\\left [ 2 x y + z^{2}, \\quad x^{2} + 2 y z, \\quad 2 x z + y^{2}\\right ]$$"
      ],
      "text/plain": [
       "⎡         2   2                   2⎤\n",
       "⎣2⋅x⋅y + z , x  + 2⋅y⋅z, 2⋅x⋅z + y ⎦"
      ]
     },
     "execution_count": 6,
     "metadata": {},
     "output_type": "execute_result"
    }
   ],
   "source": [
    "x, y, z = symbols('x y z')\n",
    "expr = y * x ** 2 + z * y ** 2 + x * z ** 2\n",
    "get_diff(expr, x, y, z)"
   ]
  },
  {
   "cell_type": "code",
   "execution_count": 7,
   "metadata": {
    "scrolled": true
   },
   "outputs": [
    {
     "name": "stdout",
     "output_type": "stream",
     "text": [
      "Expression:\n"
     ]
    },
    {
     "data": {
      "text/latex": [
       "$$z^{2} e^{2 x} \\sin{\\left (y \\right )} + e^{x} e^{y} \\cos{\\left (z \\right )}$$"
      ],
      "text/plain": [
       " 2  2⋅x           x  y       \n",
       "z ⋅ℯ   ⋅sin(y) + ℯ ⋅ℯ ⋅cos(z)"
      ]
     },
     "metadata": {},
     "output_type": "display_data"
    },
    {
     "name": "stdout",
     "output_type": "stream",
     "text": [
      "derivated by  x\n"
     ]
    },
    {
     "data": {
      "text/latex": [
       "$$2 z^{2} e^{2 x} \\sin{\\left (y \\right )} + e^{x} e^{y} \\cos{\\left (z \\right )}$$"
      ],
      "text/plain": [
       "   2  2⋅x           x  y       \n",
       "2⋅z ⋅ℯ   ⋅sin(y) + ℯ ⋅ℯ ⋅cos(z)"
      ]
     },
     "metadata": {},
     "output_type": "display_data"
    },
    {
     "name": "stdout",
     "output_type": "stream",
     "text": [
      "derivated by  y\n"
     ]
    },
    {
     "data": {
      "text/latex": [
       "$$z^{2} e^{2 x} \\cos{\\left (y \\right )} + e^{x} e^{y} \\cos{\\left (z \\right )}$$"
      ],
      "text/plain": [
       " 2  2⋅x           x  y       \n",
       "z ⋅ℯ   ⋅cos(y) + ℯ ⋅ℯ ⋅cos(z)"
      ]
     },
     "metadata": {},
     "output_type": "display_data"
    },
    {
     "name": "stdout",
     "output_type": "stream",
     "text": [
      "derivated by  z\n"
     ]
    },
    {
     "data": {
      "text/latex": [
       "$$2 z e^{2 x} \\sin{\\left (y \\right )} - e^{x} e^{y} \\sin{\\left (z \\right )}$$"
      ],
      "text/plain": [
       "     2⋅x           x  y       \n",
       "2⋅z⋅ℯ   ⋅sin(y) - ℯ ⋅ℯ ⋅sin(z)"
      ]
     },
     "metadata": {},
     "output_type": "display_data"
    },
    {
     "data": {
      "text/latex": [
       "$$\\left [ 2 z^{2} e^{2 x} \\sin{\\left (y \\right )} + e^{x} e^{y} \\cos{\\left (z \\right )}, \\quad z^{2} e^{2 x} \\cos{\\left (y \\right )} + e^{x} e^{y} \\cos{\\left (z \\right )}, \\quad 2 z e^{2 x} \\sin{\\left (y \\right )} - e^{x} e^{y} \\sin{\\left (z \\right )}\\right ]$$"
      ],
      "text/plain": [
       "⎡   2  2⋅x           x  y          2  2⋅x           x  y              2⋅x     \n",
       "⎣2⋅z ⋅ℯ   ⋅sin(y) + ℯ ⋅ℯ ⋅cos(z), z ⋅ℯ   ⋅cos(y) + ℯ ⋅ℯ ⋅cos(z), 2⋅z⋅ℯ   ⋅sin(\n",
       "\n",
       "      x  y       ⎤\n",
       "y) - ℯ ⋅ℯ ⋅sin(z)⎦"
      ]
     },
     "execution_count": 7,
     "metadata": {},
     "output_type": "execute_result"
    }
   ],
   "source": [
    "x, y, z = symbols('x y z')\n",
    "expr = exp(2 * x) * sin(y) * z ** 2 + cos(z) * exp(x) * exp(y)\n",
    "get_diff(expr, x,y,z)"
   ]
  },
  {
   "cell_type": "markdown",
   "metadata": {},
   "source": [
    "## Total derivative"
   ]
  },
  {
   "cell_type": "code",
   "execution_count": 8,
   "metadata": {},
   "outputs": [],
   "source": [
    "def total_derivative(expr, replacements, symbol):\n",
    "    print(\"Original expression: \")\n",
    "    display(expr)\n",
    "    expr = expr.subs(replacements)\n",
    "    return get_diff(expr, symbol)[0]"
   ]
  },
  {
   "cell_type": "code",
   "execution_count": 9,
   "metadata": {},
   "outputs": [
    {
     "name": "stdout",
     "output_type": "stream",
     "text": [
      "Original expression: \n"
     ]
    },
    {
     "data": {
      "text/latex": [
       "$$\\pi x^{2} y$$"
      ],
      "text/plain": [
       "   2  \n",
       "π⋅x ⋅y"
      ]
     },
     "metadata": {},
     "output_type": "display_data"
    },
    {
     "name": "stdout",
     "output_type": "stream",
     "text": [
      "Expression:\n"
     ]
    },
    {
     "data": {
      "text/latex": [
       "$$\\pi \\left(t^{2} - 1\\right) \\left(t^{2} + 1\\right)^{2}$$"
      ],
      "text/plain": [
       "                   2\n",
       "  ⎛ 2    ⎞ ⎛ 2    ⎞ \n",
       "π⋅⎝t  - 1⎠⋅⎝t  + 1⎠ "
      ]
     },
     "metadata": {},
     "output_type": "display_data"
    },
    {
     "name": "stdout",
     "output_type": "stream",
     "text": [
      "derivated by  t\n"
     ]
    },
    {
     "data": {
      "text/latex": [
       "$$4 \\pi t \\left(t^{2} - 1\\right) \\left(t^{2} + 1\\right) + 2 \\pi t \\left(t^{2} + 1\\right)^{2}$$"
      ],
      "text/plain": [
       "                                        2\n",
       "      ⎛ 2    ⎞ ⎛ 2    ⎞         ⎛ 2    ⎞ \n",
       "4⋅π⋅t⋅⎝t  - 1⎠⋅⎝t  + 1⎠ + 2⋅π⋅t⋅⎝t  + 1⎠ "
      ]
     },
     "metadata": {},
     "output_type": "display_data"
    },
    {
     "data": {
      "text/latex": [
       "$$6 \\pi t^{5} + 4 \\pi t^{3} - 2 \\pi t$$"
      ],
      "text/plain": [
       "     5        3        \n",
       "6⋅π⋅t  + 4⋅π⋅t  - 2⋅π⋅t"
      ]
     },
     "execution_count": 9,
     "metadata": {},
     "output_type": "execute_result"
    }
   ],
   "source": [
    "x, y, t = symbols('x y t')\n",
    "expr = pi * y * x ** 2\n",
    "df = total_derivative(expr, {y: t ** 2 - 1, x : t ** 2 + 1}, t)\n",
    "expand(df)"
   ]
  },
  {
   "cell_type": "code",
   "execution_count": 10,
   "metadata": {},
   "outputs": [
    {
     "data": {
      "text/latex": [
       "$$4 \\pi t \\left(t^{2} - 1\\right) \\left(t^{2} + 1\\right) + 2 \\pi t \\left(t^{2} + 1\\right)^{2}$$"
      ],
      "text/plain": [
       "                                        2\n",
       "      ⎛ 2    ⎞ ⎛ 2    ⎞         ⎛ 2    ⎞ \n",
       "4⋅π⋅t⋅⎝t  - 1⎠⋅⎝t  + 1⎠ + 2⋅π⋅t⋅⎝t  + 1⎠ "
      ]
     },
     "metadata": {},
     "output_type": "display_data"
    },
    {
     "data": {
      "text/latex": [
       "$$6 \\pi t^{5} + 4 \\pi t^{3} - 2 \\pi t$$"
      ],
      "text/plain": [
       "     5        3        \n",
       "6⋅π⋅t  + 4⋅π⋅t  - 2⋅π⋅t"
      ]
     },
     "execution_count": 10,
     "metadata": {},
     "output_type": "execute_result"
    }
   ],
   "source": [
    "expr = 4 * pi * t * ( t ** 2 + 1 ) * (t ** 2 - 1 ) + 2 * pi * t * ( t ** 2 + 1 ) ** 2\n",
    "display(expr)\n",
    "expand(expr)\n",
    "# Good one!"
   ]
  },
  {
   "cell_type": "code",
   "execution_count": 11,
   "metadata": {},
   "outputs": [
    {
     "data": {
      "text/latex": [
       "$$2 \\pi t^{6} + 2 \\pi t^{5} + \\pi t^{4} + 4 \\pi t^{3} - 4 \\pi t^{2} + 2 \\pi t - 3 \\pi$$"
      ],
      "text/plain": [
       "     6        5      4        3        2              \n",
       "2⋅π⋅t  + 2⋅π⋅t  + π⋅t  + 4⋅π⋅t  - 4⋅π⋅t  + 2⋅π⋅t - 3⋅π"
      ]
     },
     "execution_count": 11,
     "metadata": {},
     "output_type": "execute_result"
    }
   ],
   "source": [
    "expand(2 * pi * (t ** 2 + 1 ) ** 2 * (t ** 2 - 1) + pi * (t ** 2 + 1 ) ** 2 * ( t * 2 - 1))\n",
    "# Not good one"
   ]
  },
  {
   "cell_type": "code",
   "execution_count": 12,
   "metadata": {},
   "outputs": [
    {
     "data": {
      "text/latex": [
       "$$6 \\pi t^{5} + 12 \\pi t^{3} + 6 \\pi t$$"
      ],
      "text/plain": [
       "     5         3        \n",
       "6⋅π⋅t  + 12⋅π⋅t  + 6⋅π⋅t"
      ]
     },
     "execution_count": 12,
     "metadata": {},
     "output_type": "execute_result"
    }
   ],
   "source": [
    "expand(4 * pi * t * ((t ** 2) + 1 ) ** 2 + 2 * pi * t * ( (t ** 2) + 1 ) ** 2)\n",
    "# Not good one"
   ]
  },
  {
   "cell_type": "code",
   "execution_count": 13,
   "metadata": {
    "scrolled": true
   },
   "outputs": [
    {
     "name": "stdout",
     "output_type": "stream",
     "text": [
      "Original expression: \n"
     ]
    },
    {
     "data": {
      "text/latex": [
       "$$e^{2 z} \\sin{\\left (y \\right )} \\cos{\\left (x \\right )}$$"
      ],
      "text/plain": [
       " 2⋅z              \n",
       "ℯ   ⋅sin(y)⋅cos(x)"
      ]
     },
     "metadata": {},
     "output_type": "display_data"
    },
    {
     "name": "stdout",
     "output_type": "stream",
     "text": [
      "Expression:\n"
     ]
    },
    {
     "data": {
      "text/latex": [
       "$$e^{2 t^{2}} \\sin{\\left (t - 1 \\right )} \\cos{\\left (t + 1 \\right )}$$"
      ],
      "text/plain": [
       "    2                      \n",
       " 2⋅t                       \n",
       "ℯ    ⋅sin(t - 1)⋅cos(t + 1)"
      ]
     },
     "metadata": {},
     "output_type": "display_data"
    },
    {
     "name": "stdout",
     "output_type": "stream",
     "text": [
      "derivated by  t\n"
     ]
    },
    {
     "data": {
      "text/latex": [
       "$$4 t e^{2 t^{2}} \\sin{\\left (t - 1 \\right )} \\cos{\\left (t + 1 \\right )} - e^{2 t^{2}} \\sin{\\left (t - 1 \\right )} \\sin{\\left (t + 1 \\right )} + e^{2 t^{2}} \\cos{\\left (t - 1 \\right )} \\cos{\\left (t + 1 \\right )}$$"
      ],
      "text/plain": [
       "        2                             2                             2         \n",
       "     2⋅t                           2⋅t                           2⋅t          \n",
       "4⋅t⋅ℯ    ⋅sin(t - 1)⋅cos(t + 1) - ℯ    ⋅sin(t - 1)⋅sin(t + 1) + ℯ    ⋅cos(t - \n",
       "\n",
       "             \n",
       "             \n",
       "1)⋅cos(t + 1)"
      ]
     },
     "metadata": {},
     "output_type": "display_data"
    },
    {
     "data": {
      "text/latex": [
       "$$\\left(4 t \\sin{\\left (t - 1 \\right )} \\cos{\\left (t + 1 \\right )} - \\sin{\\left (t - 1 \\right )} \\sin{\\left (t + 1 \\right )} + \\cos{\\left (t - 1 \\right )} \\cos{\\left (t + 1 \\right )}\\right) e^{2 t^{2}}$$"
      ],
      "text/plain": [
       "                                                                              \n",
       "                                                                             2\n",
       "(4⋅t⋅sin(t - 1)⋅cos(t + 1) - sin(t - 1)⋅sin(t + 1) + cos(t - 1)⋅cos(t + 1))⋅ℯ \n",
       "\n",
       "  2\n",
       "⋅t \n",
       "   "
      ]
     },
     "execution_count": 13,
     "metadata": {},
     "output_type": "execute_result"
    }
   ],
   "source": [
    "x, y, z, t = symbols('x y z t')\n",
    "expr = cos(x) * sin(y) * exp(2 * z)\n",
    "df = total_derivative(expr, {x : t + 1, y : t - 1, z: t ** 2}, t)\n",
    "factor(df)"
   ]
  },
  {
   "cell_type": "markdown",
   "metadata": {},
   "source": [
    "## Jacobian"
   ]
  },
  {
   "cell_type": "code",
   "execution_count": 16,
   "metadata": {},
   "outputs": [
    {
     "name": "stdout",
     "output_type": "stream",
     "text": [
      "Expression:\n"
     ]
    },
    {
     "data": {
      "text/latex": [
       "$$x^{2} y + \\frac{3 x}{4} y + 10$$"
      ],
      "text/plain": [
       " 2     3⋅x⋅y     \n",
       "x ⋅y + ───── + 10\n",
       "         4       "
      ]
     },
     "metadata": {},
     "output_type": "display_data"
    },
    {
     "name": "stdout",
     "output_type": "stream",
     "text": [
      "derivated by  x\n"
     ]
    },
    {
     "data": {
      "text/latex": [
       "$$2 x y + \\frac{3 y}{4}$$"
      ],
      "text/plain": [
       "        3⋅y\n",
       "2⋅x⋅y + ───\n",
       "         4 "
      ]
     },
     "metadata": {},
     "output_type": "display_data"
    },
    {
     "name": "stdout",
     "output_type": "stream",
     "text": [
      "derivated by  y\n"
     ]
    },
    {
     "data": {
      "text/latex": [
       "$$x^{2} + \\frac{3 x}{4}$$"
      ],
      "text/plain": [
       " 2   3⋅x\n",
       "x  + ───\n",
       "      4 "
      ]
     },
     "metadata": {},
     "output_type": "display_data"
    },
    {
     "data": {
      "text/latex": [
       "$$\\left [ 2 x y + \\frac{3 y}{4}, \\quad x^{2} + \\frac{3 x}{4}\\right ]$$"
      ],
      "text/plain": [
       "⎡        3⋅y   2   3⋅x⎤\n",
       "⎢2⋅x⋅y + ───, x  + ───⎥\n",
       "⎣         4         4 ⎦"
      ]
     },
     "execution_count": 16,
     "metadata": {},
     "output_type": "execute_result"
    }
   ],
   "source": [
    "x, y = symbols('x y')\n",
    "expr = y * x ** 2 + x * y * 3 / 4 + 10\n",
    "get_diff(expr, x,y)"
   ]
  },
  {
   "cell_type": "code",
   "execution_count": 17,
   "metadata": {},
   "outputs": [
    {
     "name": "stdout",
     "output_type": "stream",
     "text": [
      "Expression:\n"
     ]
    },
    {
     "data": {
      "text/latex": [
       "$$x e^{3 y} + e^{x} \\cos{\\left (y \\right )} - 2$$"
      ],
      "text/plain": [
       "   3⋅y    x           \n",
       "x⋅ℯ    + ℯ ⋅cos(y) - 2"
      ]
     },
     "metadata": {},
     "output_type": "display_data"
    },
    {
     "name": "stdout",
     "output_type": "stream",
     "text": [
      "derivated by  x\n"
     ]
    },
    {
     "data": {
      "text/latex": [
       "$$e^{x} \\cos{\\left (y \\right )} + e^{3 y}$$"
      ],
      "text/plain": [
       " x           3⋅y\n",
       "ℯ ⋅cos(y) + ℯ   "
      ]
     },
     "metadata": {},
     "output_type": "display_data"
    },
    {
     "name": "stdout",
     "output_type": "stream",
     "text": [
      "derivated by  y\n"
     ]
    },
    {
     "data": {
      "text/latex": [
       "$$3 x e^{3 y} - e^{x} \\sin{\\left (y \\right )}$$"
      ],
      "text/plain": [
       "     3⋅y    x       \n",
       "3⋅x⋅ℯ    - ℯ ⋅sin(y)"
      ]
     },
     "metadata": {},
     "output_type": "display_data"
    },
    {
     "data": {
      "text/latex": [
       "$$\\left [ e^{x} \\cos{\\left (y \\right )} + e^{3 y}, \\quad 3 x e^{3 y} - e^{x} \\sin{\\left (y \\right )}\\right ]$$"
      ],
      "text/plain": [
       "⎡ x           3⋅y       3⋅y    x       ⎤\n",
       "⎣ℯ ⋅cos(y) + ℯ   , 3⋅x⋅ℯ    - ℯ ⋅sin(y)⎦"
      ]
     },
     "execution_count": 17,
     "metadata": {},
     "output_type": "execute_result"
    }
   ],
   "source": [
    "x, y = symbols('x y')\n",
    "expr = exp(x) * cos(y) + x * exp(3 * y) - 2\n",
    "get_diff(expr, x,y)"
   ]
  },
  {
   "cell_type": "code",
   "execution_count": 19,
   "metadata": {},
   "outputs": [
    {
     "name": "stdout",
     "output_type": "stream",
     "text": [
      "Expression:\n"
     ]
    },
    {
     "data": {
      "text/latex": [
       "$$x^{2} y^{2} z^{2} + e^{x} \\cos{\\left (y \\right )}$$"
      ],
      "text/plain": [
       " 2  2  2    x       \n",
       "x ⋅y ⋅z  + ℯ ⋅cos(y)"
      ]
     },
     "metadata": {},
     "output_type": "display_data"
    },
    {
     "name": "stdout",
     "output_type": "stream",
     "text": [
      "derivated by  x\n"
     ]
    },
    {
     "data": {
      "text/latex": [
       "$$2 x y^{2} z^{2} + e^{x} \\cos{\\left (y \\right )}$$"
      ],
      "text/plain": [
       "     2  2    x       \n",
       "2⋅x⋅y ⋅z  + ℯ ⋅cos(y)"
      ]
     },
     "metadata": {},
     "output_type": "display_data"
    },
    {
     "name": "stdout",
     "output_type": "stream",
     "text": [
      "derivated by  y\n"
     ]
    },
    {
     "data": {
      "text/latex": [
       "$$2 x^{2} y z^{2} - e^{x} \\sin{\\left (y \\right )}$$"
      ],
      "text/plain": [
       "   2    2    x       \n",
       "2⋅x ⋅y⋅z  - ℯ ⋅sin(y)"
      ]
     },
     "metadata": {},
     "output_type": "display_data"
    },
    {
     "name": "stdout",
     "output_type": "stream",
     "text": [
      "derivated by  z\n"
     ]
    },
    {
     "data": {
      "text/latex": [
       "$$2 x^{2} y^{2} z$$"
      ],
      "text/plain": [
       "   2  2  \n",
       "2⋅x ⋅y ⋅z"
      ]
     },
     "metadata": {},
     "output_type": "display_data"
    },
    {
     "data": {
      "text/latex": [
       "$$\\left [ 2 x y^{2} z^{2} + e^{x} \\cos{\\left (y \\right )}, \\quad 2 x^{2} y z^{2} - e^{x} \\sin{\\left (y \\right )}, \\quad 2 x^{2} y^{2} z\\right ]$$"
      ],
      "text/plain": [
       "⎡     2  2    x            2    2    x            2  2  ⎤\n",
       "⎣2⋅x⋅y ⋅z  + ℯ ⋅cos(y), 2⋅x ⋅y⋅z  - ℯ ⋅sin(y), 2⋅x ⋅y ⋅z⎦"
      ]
     },
     "execution_count": 19,
     "metadata": {},
     "output_type": "execute_result"
    }
   ],
   "source": [
    "x, y, z = symbols('x y z')\n",
    "expr = exp(x) * cos(y) + x**2 * y**2 * z**2\n",
    "get_diff(expr, x,y,z)"
   ]
  },
  {
   "cell_type": "code",
   "execution_count": 25,
   "metadata": {},
   "outputs": [
    {
     "name": "stdout",
     "output_type": "stream",
     "text": [
      "Expression:\n"
     ]
    },
    {
     "data": {
      "text/latex": [
       "$$x^{2} + 3 e^{y} e^{z} + \\sin{\\left (z \\right )} \\cos{\\left (x \\right )}$$"
      ],
      "text/plain": [
       " 2      y  z                \n",
       "x  + 3⋅ℯ ⋅ℯ  + sin(z)⋅cos(x)"
      ]
     },
     "metadata": {},
     "output_type": "display_data"
    },
    {
     "name": "stdout",
     "output_type": "stream",
     "text": [
      "derivated by  x\n"
     ]
    },
    {
     "data": {
      "text/latex": [
       "$$2 x - \\sin{\\left (x \\right )} \\sin{\\left (z \\right )}$$"
      ],
      "text/plain": [
       "2⋅x - sin(x)⋅sin(z)"
      ]
     },
     "metadata": {},
     "output_type": "display_data"
    },
    {
     "name": "stdout",
     "output_type": "stream",
     "text": [
      "derivated by  y\n"
     ]
    },
    {
     "data": {
      "text/latex": [
       "$$3 e^{y} e^{z}$$"
      ],
      "text/plain": [
       "   y  z\n",
       "3⋅ℯ ⋅ℯ "
      ]
     },
     "metadata": {},
     "output_type": "display_data"
    },
    {
     "name": "stdout",
     "output_type": "stream",
     "text": [
      "derivated by  z\n"
     ]
    },
    {
     "data": {
      "text/latex": [
       "$$3 e^{y} e^{z} + \\cos{\\left (x \\right )} \\cos{\\left (z \\right )}$$"
      ],
      "text/plain": [
       "   y  z                \n",
       "3⋅ℯ ⋅ℯ  + cos(x)⋅cos(z)"
      ]
     },
     "metadata": {},
     "output_type": "display_data"
    },
    {
     "data": {
      "text/latex": [
       "$$\\left [ 0, \\quad 3.0, \\quad 4.0\\right ]$$"
      ],
      "text/plain": [
       "[0, 3.0, 4.0]"
      ]
     },
     "execution_count": 25,
     "metadata": {},
     "output_type": "execute_result"
    }
   ],
   "source": [
    "x, y, z = symbols('x y z')\n",
    "expr = x **2 + 3 * exp(y) * exp(z) + cos(x) * sin(z)\n",
    "J = get_diff(expr, x,y,z)\n",
    "list(map(lambda j : j.evalf(subs={x: 0, y:0, z:0}), J))"
   ]
  },
  {
   "cell_type": "code",
   "execution_count": 27,
   "metadata": {},
   "outputs": [
    {
     "name": "stdout",
     "output_type": "stream",
     "text": [
      "Expression:\n"
     ]
    },
    {
     "data": {
      "text/latex": [
       "$$5 x^{2} e^{z} \\sin{\\left (y \\right )} + x e^{y} \\cos{\\left (z \\right )}$$"
      ],
      "text/plain": [
       "   2  z             y       \n",
       "5⋅x ⋅ℯ ⋅sin(y) + x⋅ℯ ⋅cos(z)"
      ]
     },
     "metadata": {},
     "output_type": "display_data"
    },
    {
     "name": "stdout",
     "output_type": "stream",
     "text": [
      "derivated by  x\n"
     ]
    },
    {
     "data": {
      "text/latex": [
       "$$10 x e^{z} \\sin{\\left (y \\right )} + e^{y} \\cos{\\left (z \\right )}$$"
      ],
      "text/plain": [
       "      z           y       \n",
       "10⋅x⋅ℯ ⋅sin(y) + ℯ ⋅cos(z)"
      ]
     },
     "metadata": {},
     "output_type": "display_data"
    },
    {
     "name": "stdout",
     "output_type": "stream",
     "text": [
      "derivated by  y\n"
     ]
    },
    {
     "data": {
      "text/latex": [
       "$$5 x^{2} e^{z} \\cos{\\left (y \\right )} + x e^{y} \\cos{\\left (z \\right )}$$"
      ],
      "text/plain": [
       "   2  z             y       \n",
       "5⋅x ⋅ℯ ⋅cos(y) + x⋅ℯ ⋅cos(z)"
      ]
     },
     "metadata": {},
     "output_type": "display_data"
    },
    {
     "name": "stdout",
     "output_type": "stream",
     "text": [
      "derivated by  z\n"
     ]
    },
    {
     "data": {
      "text/latex": [
       "$$5 x^{2} e^{z} \\sin{\\left (y \\right )} - x e^{y} \\sin{\\left (z \\right )}$$"
      ],
      "text/plain": [
       "   2  z             y       \n",
       "5⋅x ⋅ℯ ⋅sin(y) - x⋅ℯ ⋅sin(z)"
      ]
     },
     "metadata": {},
     "output_type": "display_data"
    },
    {
     "data": {
      "text/latex": [
       "$$\\left [ 1.0, \\quad 0, \\quad 0\\right ]$$"
      ],
      "text/plain": [
       "[1.0, 0, 0]"
      ]
     },
     "execution_count": 27,
     "metadata": {},
     "output_type": "execute_result"
    }
   ],
   "source": [
    "x, y, z = symbols('x y z')\n",
    "expr = x * exp(y) * cos(z) + 5 * x ** 2 * sin(y) * exp(z)\n",
    "J = get_diff(expr, x,y,z)\n",
    "list(map(lambda j : j.evalf(subs={x: 0, y:0, z:0}), J))"
   ]
  },
  {
   "cell_type": "code",
   "execution_count": null,
   "metadata": {},
   "outputs": [],
   "source": []
  }
 ],
 "metadata": {
  "kernelspec": {
   "display_name": "Python 3",
   "language": "python",
   "name": "python3"
  },
  "language_info": {
   "codemirror_mode": {
    "name": "ipython",
    "version": 3
   },
   "file_extension": ".py",
   "mimetype": "text/x-python",
   "name": "python",
   "nbconvert_exporter": "python",
   "pygments_lexer": "ipython3",
   "version": "3.5.4"
  }
 },
 "nbformat": 4,
 "nbformat_minor": 2
}
