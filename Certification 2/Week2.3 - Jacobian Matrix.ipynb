{
 "cells": [
  {
   "cell_type": "code",
   "execution_count": 1,
   "metadata": {},
   "outputs": [],
   "source": [
    "from sympy import *\n",
    "init_printing(use_latex='mathjax')"
   ]
  },
  {
   "cell_type": "code",
   "execution_count": 21,
   "metadata": {},
   "outputs": [],
   "source": [
    "def get_diff(expressions, symbols):\n",
    "    rows = len(expressions)\n",
    "    columns = len(symbols)\n",
    "    assert rows == columns , \"Number of expression doesnt match number of symbols\"\n",
    "    \n",
    "    print(\"Expressions:\")\n",
    "    for expression in expressions:\n",
    "        display(expression)\n",
    "\n",
    "    results = [[0 for x in range(rows)] for y in range(columns)] \n",
    "    for row, expression in enumerate(expressions):\n",
    "        for column, symbol in enumerate(symbols):\n",
    "#             print('Row %d, column %d, expression: %s, symbol: %s' % (row, column, expression, symbol))\n",
    "            df = diff(expression, symbol)\n",
    "#             print(\"DF: %s\" % df)\n",
    "            results[row][column] = df\n",
    "    return results"
   ]
  },
  {
   "cell_type": "code",
   "execution_count": 22,
   "metadata": {},
   "outputs": [
    {
     "name": "stdout",
     "output_type": "stream",
     "text": [
      "Expressions:\n"
     ]
    },
    {
     "data": {
      "text/latex": [
       "$$x^{2} - y^{2}$$"
      ],
      "text/plain": [
       " 2    2\n",
       "x  - y "
      ]
     },
     "metadata": {},
     "output_type": "display_data"
    },
    {
     "data": {
      "text/latex": [
       "$$2 x y$$"
      ],
      "text/plain": [
       "2⋅x⋅y"
      ]
     },
     "metadata": {},
     "output_type": "display_data"
    },
    {
     "data": {
      "text/latex": [
       "$$\\left [ \\left [ 2 x, \\quad - 2 y\\right ], \\quad \\left [ 2 y, \\quad 2 x\\right ]\\right ]$$"
      ],
      "text/plain": [
       "[[2⋅x, -2⋅y], [2⋅y, 2⋅x]]"
      ]
     },
     "execution_count": 22,
     "metadata": {},
     "output_type": "execute_result"
    }
   ],
   "source": [
    "x, y = symbols('x y')\n",
    "get_diff([x ** 2 - y**2, 2 * x * y], [x, y])"
   ]
  },
  {
   "cell_type": "code",
   "execution_count": 24,
   "metadata": {},
   "outputs": [
    {
     "name": "stdout",
     "output_type": "stream",
     "text": [
      "Expressions:\n"
     ]
    },
    {
     "data": {
      "text/latex": [
       "$$2 x + 3 y$$"
      ],
      "text/plain": [
       "2⋅x + 3⋅y"
      ]
     },
     "metadata": {},
     "output_type": "display_data"
    },
    {
     "data": {
      "text/latex": [
       "$$\\sin{\\left (z \\right )} \\cos{\\left (x \\right )}$$"
      ],
      "text/plain": [
       "sin(z)⋅cos(x)"
      ]
     },
     "metadata": {},
     "output_type": "display_data"
    },
    {
     "data": {
      "text/latex": [
       "$$e^{x} e^{y} e^{z}$$"
      ],
      "text/plain": [
       " x  y  z\n",
       "ℯ ⋅ℯ ⋅ℯ "
      ]
     },
     "metadata": {},
     "output_type": "display_data"
    },
    {
     "data": {
      "text/latex": [
       "$$\\left [ \\left [ 2, \\quad 3, \\quad 0\\right ], \\quad \\left [ - \\sin{\\left (x \\right )} \\sin{\\left (z \\right )}, \\quad 0, \\quad \\cos{\\left (x \\right )} \\cos{\\left (z \\right )}\\right ], \\quad \\left [ e^{x} e^{y} e^{z}, \\quad e^{x} e^{y} e^{z}, \\quad e^{x} e^{y} e^{z}\\right ]\\right ]$$"
      ],
      "text/plain": [
       "⎡                                               ⎡ x  y  z   x  y  z   x  y  z⎤\n",
       "⎣[2, 3, 0], [-sin(x)⋅sin(z), 0, cos(x)⋅cos(z)], ⎣ℯ ⋅ℯ ⋅ℯ , ℯ ⋅ℯ ⋅ℯ , ℯ ⋅ℯ ⋅ℯ ⎦\n",
       "\n",
       "⎤\n",
       "⎦"
      ]
     },
     "execution_count": 24,
     "metadata": {},
     "output_type": "execute_result"
    }
   ],
   "source": [
    "x, y, z = symbols('x y z')\n",
    "get_diff([\n",
    "    2 * x + 3 * y,\n",
    "    cos(x) * sin(z),\n",
    "    exp(x) * exp(y) * exp(z)\n",
    "], [x, y , z])"
   ]
  },
  {
   "cell_type": "code",
   "execution_count": 25,
   "metadata": {
    "scrolled": true
   },
   "outputs": [
    {
     "name": "stdout",
     "output_type": "stream",
     "text": [
      "Expressions:\n"
     ]
    },
    {
     "data": {
      "text/latex": [
       "$$a x + b y$$"
      ],
      "text/plain": [
       "a⋅x + b⋅y"
      ]
     },
     "metadata": {},
     "output_type": "display_data"
    },
    {
     "data": {
      "text/latex": [
       "$$c x + d y$$"
      ],
      "text/plain": [
       "c⋅x + d⋅y"
      ]
     },
     "metadata": {},
     "output_type": "display_data"
    },
    {
     "data": {
      "text/latex": [
       "$$\\left [ \\left [ a, \\quad b\\right ], \\quad \\left [ c, \\quad d\\right ]\\right ]$$"
      ],
      "text/plain": [
       "[[a, b], [c, d]]"
      ]
     },
     "execution_count": 25,
     "metadata": {},
     "output_type": "execute_result"
    }
   ],
   "source": [
    "x, y, a, b, c, d = symbols('x y a b c d')\n",
    "get_diff([\n",
    "    a * x + b * y,\n",
    "    c * x + d * y\n",
    "], [x, y])"
   ]
  },
  {
   "cell_type": "code",
   "execution_count": 31,
   "metadata": {},
   "outputs": [],
   "source": [
    "def jacobian_at(jacobian, point):\n",
    "    rows = len(jacobian)\n",
    "    columns = len(jacobian[0])\n",
    "    results = [[0 for x in range(rows)] for y in range(columns)] \n",
    "    for rowIndex, row in enumerate(jacobian):\n",
    "        for colIndex, cell in enumerate(row):\n",
    "            results[rowIndex][colIndex] = cell.evalf(subs=point)\n",
    "            \n",
    "    return results"
   ]
  },
  {
   "cell_type": "code",
   "execution_count": 32,
   "metadata": {},
   "outputs": [
    {
     "name": "stdout",
     "output_type": "stream",
     "text": [
      "Expressions:\n"
     ]
    },
    {
     "data": {
      "text/latex": [
       "$$9 x^{2} y^{2} + z e^{x}$$"
      ],
      "text/plain": [
       "   2  2      x\n",
       "9⋅x ⋅y  + z⋅ℯ "
      ]
     },
     "metadata": {},
     "output_type": "display_data"
    },
    {
     "data": {
      "text/latex": [
       "$$x^{2} y^{3} + x y + 2 z$$"
      ],
      "text/plain": [
       " 2  3            \n",
       "x ⋅y  + x⋅y + 2⋅z"
      ]
     },
     "metadata": {},
     "output_type": "display_data"
    },
    {
     "data": {
      "text/latex": [
       "$$e^{y} \\sin{\\left (z \\right )} \\cos{\\left (x \\right )}$$"
      ],
      "text/plain": [
       " y              \n",
       "ℯ ⋅sin(z)⋅cos(x)"
      ]
     },
     "metadata": {},
     "output_type": "display_data"
    },
    {
     "data": {
      "text/latex": [
       "$$\\left [ \\left [ 0, \\quad 0, \\quad 1.0\\right ], \\quad \\left [ 0, \\quad 0, \\quad 2.0\\right ], \\quad \\left [ 0, \\quad 0, \\quad 1.0\\right ]\\right ]$$"
      ],
      "text/plain": [
       "[[0, 0, 1.0], [0, 0, 2.0], [0, 0, 1.0]]"
      ]
     },
     "execution_count": 32,
     "metadata": {},
     "output_type": "execute_result"
    }
   ],
   "source": [
    "x, y, z = symbols('x y z')\n",
    "J = get_diff([\n",
    "    9 * x ** 2 * y ** 2 + z * exp(x),\n",
    "    x * y + x ** 2 * y ** 3 + 2 * z,\n",
    "    cos(x) * sin(z) * exp(y)\n",
    "], [x, y, z])\n",
    "jacobian_at(J, {x: 0, y:0, z:0})"
   ]
  },
  {
   "cell_type": "code",
   "execution_count": 37,
   "metadata": {},
   "outputs": [
    {
     "name": "stdout",
     "output_type": "stream",
     "text": [
      "Expressions:\n"
     ]
    },
    {
     "data": {
      "text/latex": [
       "$$r \\sin{\\left (\\phi \\right )} \\cos{\\left (\\theta \\right )}$$"
      ],
      "text/plain": [
       "r⋅sin(φ)⋅cos(θ)"
      ]
     },
     "metadata": {},
     "output_type": "display_data"
    },
    {
     "data": {
      "text/latex": [
       "$$r \\sin{\\left (\\phi \\right )} \\sin{\\left (\\theta \\right )}$$"
      ],
      "text/plain": [
       "r⋅sin(φ)⋅sin(θ)"
      ]
     },
     "metadata": {},
     "output_type": "display_data"
    },
    {
     "data": {
      "text/latex": [
       "$$r \\cos{\\left (\\phi \\right )}$$"
      ],
      "text/plain": [
       "r⋅cos(φ)"
      ]
     },
     "metadata": {},
     "output_type": "display_data"
    },
    {
     "data": {
      "text/latex": [
       "$$\\left [ \\left [ \\sin{\\left (\\phi \\right )} \\cos{\\left (\\theta \\right )}, \\quad - r \\sin{\\left (\\phi \\right )} \\sin{\\left (\\theta \\right )}, \\quad r \\cos{\\left (\\phi \\right )} \\cos{\\left (\\theta \\right )}\\right ], \\quad \\left [ \\sin{\\left (\\phi \\right )} \\sin{\\left (\\theta \\right )}, \\quad r \\sin{\\left (\\phi \\right )} \\cos{\\left (\\theta \\right )}, \\quad r \\sin{\\left (\\theta \\right )} \\cos{\\left (\\phi \\right )}\\right ], \\quad \\left [ \\cos{\\left (\\phi \\right )}, \\quad 0, \\quad - r \\sin{\\left (\\phi \\right )}\\right ]\\right ]$$"
      ],
      "text/plain": [
       "[[sin(φ)⋅cos(θ), -r⋅sin(φ)⋅sin(θ), r⋅cos(φ)⋅cos(θ)], [sin(φ)⋅sin(θ), r⋅sin(φ)⋅\n",
       "cos(θ), r⋅sin(θ)⋅cos(φ)], [cos(φ), 0, -r⋅sin(φ)]]"
      ]
     },
     "execution_count": 37,
     "metadata": {},
     "output_type": "execute_result"
    }
   ],
   "source": [
    "r, theta, phi = symbols('r theta phi')\n",
    "get_diff([\n",
    "    r * cos(theta) * sin(phi),\n",
    "    r * sin(theta) * sin(phi),\n",
    "    r * cos(phi)\n",
    "], [r, theta, phi])"
   ]
  },
  {
   "cell_type": "code",
   "execution_count": null,
   "metadata": {},
   "outputs": [],
   "source": []
  }
 ],
 "metadata": {
  "kernelspec": {
   "display_name": "Python 3",
   "language": "python",
   "name": "python3"
  },
  "language_info": {
   "codemirror_mode": {
    "name": "ipython",
    "version": 3
   },
   "file_extension": ".py",
   "mimetype": "text/x-python",
   "name": "python",
   "nbconvert_exporter": "python",
   "pygments_lexer": "ipython3",
   "version": "3.5.4"
  }
 },
 "nbformat": 4,
 "nbformat_minor": 2
}
