{
 "cells": [
  {
   "cell_type": "code",
   "execution_count": 1,
   "metadata": {},
   "outputs": [],
   "source": [
    "import numpy as np\n",
    "from sympy import *\n",
    "init_printing(use_latex='mathjax')"
   ]
  },
  {
   "cell_type": "code",
   "execution_count": 2,
   "metadata": {},
   "outputs": [],
   "source": [
    "def get_jacobian(expressions, symbols):\n",
    "    rows = len(expressions)\n",
    "    columns = len(symbols)\n",
    "\n",
    "    print(\"Expressions:\")\n",
    "    for expression in expressions:\n",
    "        display(expression)\n",
    "\n",
    "    results = [[0 for x in range(columns)] for y in range(rows)] \n",
    "    for row, expression in enumerate(expressions):\n",
    "        for column, symbol in enumerate(symbols):\n",
    "#             print('Row %d, column %d, expression: %s, symbol: %s' % (row, column, expression, symbol))\n",
    "            df = diff(expression, symbol)\n",
    "#             print(\"DF: %s\" % df)\n",
    "            results[row][column] = df\n",
    "    return results"
   ]
  },
  {
   "cell_type": "code",
   "execution_count": 9,
   "metadata": {},
   "outputs": [],
   "source": [
    "def get_hessians(jacobian, symbols):\n",
    "    jacobian = np.array(jacobian)\n",
    "    rows, columns = jacobian.shape\n",
    "    hessians = [[[None for z in range(len(symbols))] for x in range(columns)] for y in range(rows)] \n",
    "    for row in range(rows):\n",
    "        for column in range(columns):\n",
    "            for index, symbol in enumerate(symbols):\n",
    "                df = diff(jacobian[row, column], symbol)\n",
    "                hessians[row][column][index] = df\n",
    "            \n",
    "    return hessians"
   ]
  },
  {
   "cell_type": "code",
   "execution_count": 10,
   "metadata": {},
   "outputs": [
    {
     "name": "stdout",
     "output_type": "stream",
     "text": [
      "Expressions:\n"
     ]
    },
    {
     "data": {
      "text/latex": [
       "$$x^{3} y + x + 2 y$$"
      ],
      "text/plain": [
       " 3            \n",
       "x ⋅y + x + 2⋅y"
      ]
     },
     "metadata": {},
     "output_type": "display_data"
    },
    {
     "data": {
      "text/latex": [
       "$$\\left [ \\left [ 3 x^{2} y + 1, \\quad x^{3} + 2\\right ]\\right ]$$"
      ],
      "text/plain": [
       "⎡⎡   2         3    ⎤⎤\n",
       "⎣⎣3⋅x ⋅y + 1, x  + 2⎦⎦"
      ]
     },
     "metadata": {},
     "output_type": "display_data"
    },
    {
     "data": {
      "text/latex": [
       "$$\\left [ \\left [ \\left [ 6 x y, \\quad 3 x^{2}\\right ], \\quad \\left [ 3 x^{2}, \\quad 0\\right ]\\right ]\\right ]$$"
      ],
      "text/plain": [
       "⎡⎡⎡          2⎤  ⎡   2   ⎤⎤⎤\n",
       "⎣⎣⎣6⋅x⋅y, 3⋅x ⎦, ⎣3⋅x , 0⎦⎦⎦"
      ]
     },
     "metadata": {},
     "output_type": "display_data"
    }
   ],
   "source": [
    "x, y = symbols('x y')\n",
    "j = get_jacobian([\n",
    "    y * x ** 3 + x + 2 * y\n",
    "], [x, y])\n",
    "display(j)\n",
    "h = get_hessians(j, [x, y])\n",
    "display(h)"
   ]
  },
  {
   "cell_type": "code",
   "execution_count": 11,
   "metadata": {},
   "outputs": [
    {
     "name": "stdout",
     "output_type": "stream",
     "text": [
      "Expressions:\n"
     ]
    },
    {
     "data": {
      "text/latex": [
       "$$e^{x} \\cos{\\left (y \\right )}$$"
      ],
      "text/plain": [
       " x       \n",
       "ℯ ⋅cos(y)"
      ]
     },
     "metadata": {},
     "output_type": "display_data"
    },
    {
     "data": {
      "text/latex": [
       "$$\\left [ \\left [ e^{x} \\cos{\\left (y \\right )}, \\quad - e^{x} \\sin{\\left (y \\right )}\\right ]\\right ]$$"
      ],
      "text/plain": [
       "⎡⎡ x           x       ⎤⎤\n",
       "⎣⎣ℯ ⋅cos(y), -ℯ ⋅sin(y)⎦⎦"
      ]
     },
     "metadata": {},
     "output_type": "display_data"
    },
    {
     "data": {
      "text/latex": [
       "$$\\left [ \\left [ \\left [ e^{x} \\cos{\\left (y \\right )}, \\quad - e^{x} \\sin{\\left (y \\right )}\\right ], \\quad \\left [ - e^{x} \\sin{\\left (y \\right )}, \\quad - e^{x} \\cos{\\left (y \\right )}\\right ]\\right ]\\right ]$$"
      ],
      "text/plain": [
       "⎡⎡⎡ x           x       ⎤  ⎡  x           x       ⎤⎤⎤\n",
       "⎣⎣⎣ℯ ⋅cos(y), -ℯ ⋅sin(y)⎦, ⎣-ℯ ⋅sin(y), -ℯ ⋅cos(y)⎦⎦⎦"
      ]
     },
     "metadata": {},
     "output_type": "display_data"
    }
   ],
   "source": [
    "x, y = symbols('x y')\n",
    "j = get_jacobian([\n",
    "    exp(x) * cos(y)\n",
    "], [x, y])\n",
    "display(j)\n",
    "h = get_hessians(j, [x, y])\n",
    "display(h)"
   ]
  },
  {
   "cell_type": "code",
   "execution_count": 12,
   "metadata": {},
   "outputs": [
    {
     "name": "stdout",
     "output_type": "stream",
     "text": [
      "Expressions:\n"
     ]
    },
    {
     "data": {
      "text/latex": [
       "$$\\frac{x^{2}}{2} + x y + \\frac{y^{2}}{2}$$"
      ],
      "text/plain": [
       " 2          2\n",
       "x          y \n",
       "── + x⋅y + ──\n",
       "2          2 "
      ]
     },
     "metadata": {},
     "output_type": "display_data"
    },
    {
     "data": {
      "text/latex": [
       "$$\\left [ \\left [ x + y, \\quad x + y\\right ]\\right ]$$"
      ],
      "text/plain": [
       "[[x + y, x + y]]"
      ]
     },
     "metadata": {},
     "output_type": "display_data"
    },
    {
     "data": {
      "text/latex": [
       "$$\\left [ \\left [ \\left [ 1, \\quad 1\\right ], \\quad \\left [ 1, \\quad 1\\right ]\\right ]\\right ]$$"
      ],
      "text/plain": [
       "[[[1, 1], [1, 1]]]"
      ]
     },
     "metadata": {},
     "output_type": "display_data"
    }
   ],
   "source": [
    "x, y = symbols('x y')\n",
    "j = get_jacobian([\n",
    "    x ** 2 /2 + x * y + y ** 2 / 2\n",
    "], [x, y])\n",
    "display(j)\n",
    "h = get_hessians(j, [x, y])\n",
    "display(h)"
   ]
  },
  {
   "cell_type": "code",
   "execution_count": 13,
   "metadata": {},
   "outputs": [
    {
     "name": "stdout",
     "output_type": "stream",
     "text": [
      "Expressions:\n"
     ]
    },
    {
     "data": {
      "text/latex": [
       "$$x^{2} e^{- y} \\cos{\\left (z \\right )}$$"
      ],
      "text/plain": [
       " 2  -y       \n",
       "x ⋅ℯ  ⋅cos(z)"
      ]
     },
     "metadata": {},
     "output_type": "display_data"
    },
    {
     "data": {
      "text/latex": [
       "$$\\left [ \\left [ 2 x e^{- y} \\cos{\\left (z \\right )}, \\quad - x^{2} e^{- y} \\cos{\\left (z \\right )}, \\quad - x^{2} e^{- y} \\sin{\\left (z \\right )}\\right ]\\right ]$$"
      ],
      "text/plain": [
       "⎡⎡     -y           2  -y           2  -y       ⎤⎤\n",
       "⎣⎣2⋅x⋅ℯ  ⋅cos(z), -x ⋅ℯ  ⋅cos(z), -x ⋅ℯ  ⋅sin(z)⎦⎦"
      ]
     },
     "metadata": {},
     "output_type": "display_data"
    },
    {
     "data": {
      "text/latex": [
       "$$\\left [ \\left [ \\left [ 2 e^{- y} \\cos{\\left (z \\right )}, \\quad - 2 x e^{- y} \\cos{\\left (z \\right )}, \\quad - 2 x e^{- y} \\sin{\\left (z \\right )}\\right ], \\quad \\left [ - 2 x e^{- y} \\cos{\\left (z \\right )}, \\quad x^{2} e^{- y} \\cos{\\left (z \\right )}, \\quad x^{2} e^{- y} \\sin{\\left (z \\right )}\\right ], \\quad \\left [ - 2 x e^{- y} \\sin{\\left (z \\right )}, \\quad x^{2} e^{- y} \\sin{\\left (z \\right )}, \\quad - x^{2} e^{- y} \\cos{\\left (z \\right )}\\right ]\\right ]\\right ]$$"
      ],
      "text/plain": [
       "⎡⎡⎡   -y               -y               -y       ⎤  ⎡      -y          2  -y  \n",
       "⎣⎣⎣2⋅ℯ  ⋅cos(z), -2⋅x⋅ℯ  ⋅cos(z), -2⋅x⋅ℯ  ⋅sin(z)⎦, ⎣-2⋅x⋅ℯ  ⋅cos(z), x ⋅ℯ  ⋅c\n",
       "\n",
       "        2  -y       ⎤  ⎡      -y          2  -y           2  -y       ⎤⎤⎤\n",
       "os(z), x ⋅ℯ  ⋅sin(z)⎦, ⎣-2⋅x⋅ℯ  ⋅sin(z), x ⋅ℯ  ⋅sin(z), -x ⋅ℯ  ⋅cos(z)⎦⎦⎦"
      ]
     },
     "metadata": {},
     "output_type": "display_data"
    }
   ],
   "source": [
    "x, y, z = symbols('x y z')\n",
    "j = get_jacobian([\n",
    "    x ** 2 * exp(-y) * cos(z)\n",
    "], [x, y, z])\n",
    "display(j)\n",
    "h = get_hessians(j, [x, y, z])\n",
    "display(h)"
   ]
  },
  {
   "cell_type": "code",
   "execution_count": 14,
   "metadata": {},
   "outputs": [
    {
     "name": "stdout",
     "output_type": "stream",
     "text": [
      "Expressions:\n"
     ]
    },
    {
     "data": {
      "text/latex": [
       "$$x e^{y} + y^{2} \\cos{\\left (z \\right )}$$"
      ],
      "text/plain": [
       "   y    2       \n",
       "x⋅ℯ  + y ⋅cos(z)"
      ]
     },
     "metadata": {},
     "output_type": "display_data"
    },
    {
     "data": {
      "text/latex": [
       "$$\\left [ \\left [ e^{y}, \\quad x e^{y} + 2 y \\cos{\\left (z \\right )}, \\quad - y^{2} \\sin{\\left (z \\right )}\\right ]\\right ]$$"
      ],
      "text/plain": [
       "⎡⎡ y     y                 2       ⎤⎤\n",
       "⎣⎣ℯ , x⋅ℯ  + 2⋅y⋅cos(z), -y ⋅sin(z)⎦⎦"
      ]
     },
     "metadata": {},
     "output_type": "display_data"
    },
    {
     "data": {
      "text/latex": [
       "$$\\left [ \\left [ \\left [ 0, \\quad e^{y}, \\quad 0\\right ], \\quad \\left [ e^{y}, \\quad x e^{y} + 2 \\cos{\\left (z \\right )}, \\quad - 2 y \\sin{\\left (z \\right )}\\right ], \\quad \\left [ 0, \\quad - 2 y \\sin{\\left (z \\right )}, \\quad - y^{2} \\cos{\\left (z \\right )}\\right ]\\right ]\\right ]$$"
      ],
      "text/plain": [
       "⎡⎡⎡    y   ⎤  ⎡ y     y                        ⎤  ⎡                  2       ⎤\n",
       "⎣⎣⎣0, ℯ , 0⎦, ⎣ℯ , x⋅ℯ  + 2⋅cos(z), -2⋅y⋅sin(z)⎦, ⎣0, -2⋅y⋅sin(z), -y ⋅cos(z)⎦\n",
       "\n",
       "⎤⎤\n",
       "⎦⎦"
      ]
     },
     "metadata": {},
     "output_type": "display_data"
    }
   ],
   "source": [
    "x, y, z = symbols('x y z')\n",
    "j = get_jacobian([\n",
    "    x * exp(y) + y ** 2 * cos(z)\n",
    "], [x, y, z])\n",
    "display(j)\n",
    "h = get_hessians(j, [x, y, z])\n",
    "display(h)"
   ]
  },
  {
   "cell_type": "code",
   "execution_count": null,
   "metadata": {},
   "outputs": [],
   "source": []
  }
 ],
 "metadata": {
  "kernelspec": {
   "display_name": "Python 3",
   "language": "python",
   "name": "python3"
  },
  "language_info": {
   "codemirror_mode": {
    "name": "ipython",
    "version": 3
   },
   "file_extension": ".py",
   "mimetype": "text/x-python",
   "name": "python",
   "nbconvert_exporter": "python",
   "pygments_lexer": "ipython3",
   "version": "3.5.4"
  }
 },
 "nbformat": 4,
 "nbformat_minor": 2
}
